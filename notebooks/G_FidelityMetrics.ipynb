{
 "cells": [
  {
   "cell_type": "markdown",
   "id": "3eed7ee8-71a1-4a57-b34c-d47af54ae77c",
   "metadata": {},
   "source": [
    "## Computing fidelity metrics"
   ]
  },
  {
   "cell_type": "markdown",
   "id": "0574ef6f-5a04-405f-81ff-9c2e4700ac91",
   "metadata": {},
   "source": [
    "Benchmark the metrics with the metrics proposed in ERASER."
   ]
  },
  {
   "cell_type": "code",
   "execution_count": 3,
   "id": "e0e1552d-5e19-4168-828d-6b125557cbe2",
   "metadata": {},
   "outputs": [],
   "source": [
    "%load_ext autoreload\n",
    "%autoreload 2"
   ]
  },
  {
   "cell_type": "code",
   "execution_count": 4,
   "id": "f3094ccd-da61-468f-b24c-10be96a7fdd7",
   "metadata": {},
   "outputs": [],
   "source": [
    "import os\n",
    "os.chdir(\"..\")"
   ]
  },
  {
   "cell_type": "code",
   "execution_count": 5,
   "id": "f0b756bf-7086-4260-9637-621737b06691",
   "metadata": {},
   "outputs": [],
   "source": [
    "from slalom_explanations.transformer_models import DistilBert, GPT2, Bert, Trainer\n",
    "from datasets import load_dataset, Dataset\n",
    "from transformers import AutoTokenizer"
   ]
  },
  {
   "cell_type": "code",
   "execution_count": null,
   "id": "fc0a168f-6566-46f2-942f-6863ab411fa7",
   "metadata": {},
   "outputs": [],
   "source": [
    "##Print Metrics for YELP"
   ]
  },
  {
   "cell_type": "code",
   "execution_count": 16,
   "id": "31250c07-92b4-4789-b992-cb788c2fd21e",
   "metadata": {},
   "outputs": [
    {
     "name": "stdout",
     "output_type": "stream",
     "text": [
      "gpt2 & \\wstd{0.747}{0.024} & \\wstd{0.753}{0.024} & \\wstd{0.726}{0.021} & \\wstd{0.727}{0.021} & \\wstd{0.444}{0.028} & \\wstd{0.849}{0.015} & \\wstd{0.292}{0.026} & \\wstd{0.290}{0.026} & \\wstd{0.740}{0.025}\\\\\n",
      "bert & \\wstd{0.657}{0.038} & \\wstd{0.667}{0.038} & \\wstd{0.865}{0.012} & \\wstd{0.863}{0.013} & \\wstd{0.797}{0.022} & \\wstd{0.859}{0.013} & \\wstd{0.249}{0.028} & \\wstd{0.281}{0.029} & \\wstd{0.855}{0.017}\\\\\n",
      "distilbert & \\wstd{0.645}{0.033} & \\wstd{0.642}{0.033} & \\wstd{0.813}{0.017} & \\wstd{0.813}{0.018} & \\wstd{0.746}{0.025} & \\wstd{0.854}{0.013} & \\wstd{0.201}{0.026} & \\wstd{0.243}{0.028} & \\wstd{0.768}{0.024}\\\\\n"
     ]
    },
    {
     "name": "stderr",
     "output_type": "stream",
     "text": [
      "/tmp/ipykernel_2292435/2289012677.py:13: FutureWarning: You are using `torch.load` with `weights_only=False` (the current default value), which uses the default pickle module implicitly. It is possible to construct malicious pickle data which will execute arbitrary code during unpickling (See https://github.com/pytorch/pytorch/blob/main/SECURITY.md#untrusted-models for more details). In a future release, the default value for `weights_only` will be flipped to `True`. This limits the functions that could be executed during unpickling. Arbitrary objects will no longer be allowed to be loaded via this mode unless they are explicitly allowlisted by the user via `torch.serialization.add_safe_globals`. We recommend you start setting `weights_only=True` for any use case where you don't have full control of the loaded file. Please open an issue on GitHub for any issues related to this experimental feature.\n",
      "  res = torch.load(filename)\n"
     ]
    }
   ],
   "source": [
    "import numpy as np\n",
    "import torch \n",
    "\n",
    "key = \"deletion\"\n",
    "model_names = [\"gpt2\", \"bert\", \"distilbert\"]\n",
    "dataset = \"yelp\"\n",
    "layers=6\n",
    "methods_use = [0,2,3,5,6,7,8,9,10] #[0,2,3,4,5,6,7] #[3,5,6,7,8,9,10] # # #[1,3,4,5,6,7]\n",
    "res_list, res_std_list = [], []\n",
    "for k in model_names:\n",
    "    filename = f\"metrics/100_Transformer_{dataset}_{k}_{layers}_pretrained_r7.pt\"\n",
    "    #print(filename)\n",
    "    res = torch.load(filename)\n",
    "    res_val = res[key]\n",
    "    #print(res_val.shape)\n",
    "    res_val_m = res_val.mean(axis=0)\n",
    "    res_val_std =  res_val.std(axis=0)/np.sqrt(len(res_val))\n",
    "    res_str = \" & \".join([r\"\\wstd{\" + f\"{1-res_val_m[method]:.3f}\" +\"}{\"+ f\"{res_val_std[method]:.3f}\" +\"}\" for method in methods_use])\n",
    "    print(k + \" & \" + res_str +r\"\\\\\")\n",
    "    res_list.append(res_val_m)\n",
    "    res_std_list.append(res_val_std)\n",
    "res_list = np.stack(res_list)\n",
    "res_std_list = np.stack(res_std_list)"
   ]
  },
  {
   "cell_type": "code",
   "execution_count": 17,
   "id": "3346dd17-d0e3-4f0d-96af-8320fa8fdf98",
   "metadata": {},
   "outputs": [
    {
     "name": "stdout",
     "output_type": "stream",
     "text": [
      "\\wstd{0.683}{0.032} & \\wstd{0.687}{0.032} & \\wstd{0.801}{0.017} & \\wstd{0.801}{0.017} & \\wstd{0.663}{0.025} & \\wstd{0.854}{0.014} & \\wstd{0.247}{0.027} & \\wstd{0.271}{0.028} & \\wstd{0.788}{0.022}\n"
     ]
    }
   ],
   "source": [
    "res_val_m = res_list.mean(axis=0)\n",
    "res_val_std = res_std_list.mean(axis=0)\n",
    "print(\" & \".join([r\"\\wstd{\" + f\"{1-res_val_m[method]:.3f}\" +\"}{\"+ f\"{res_val_std[method]:.3f}\" +\"}\" for method in methods_use]))"
   ]
  },
  {
   "cell_type": "code",
   "execution_count": 19,
   "id": "0411465f-4fcc-43e3-add9-c7d93120ef7f",
   "metadata": {},
   "outputs": [
    {
     "data": {
      "text/plain": [
       "tensor(0.0108)"
      ]
     },
     "execution_count": 19,
     "metadata": {},
     "output_type": "execute_result"
    }
   ],
   "source": [
    "res_val_std"
   ]
  },
  {
   "cell_type": "markdown",
   "id": "438a6212-7ec5-47a0-a4dc-f95b2e2818c0",
   "metadata": {},
   "source": [
    "## Analyze Multiremoval data"
   ]
  },
  {
   "cell_type": "code",
   "execution_count": 245,
   "id": "81a43e78-4748-4b6e-9107-4620499fceb8",
   "metadata": {},
   "outputs": [
    {
     "name": "stdout",
     "output_type": "stream",
     "text": [
      "(100, 10, 10)\n"
     ]
    },
    {
     "name": "stderr",
     "output_type": "stream",
     "text": [
      "/tmp/ipykernel_3020536/3335391140.py:6: FutureWarning: You are using `torch.load` with `weights_only=False` (the current default value), which uses the default pickle module implicitly. It is possible to construct malicious pickle data which will execute arbitrary code during unpickling (See https://github.com/pytorch/pytorch/blob/main/SECURITY.md#untrusted-models for more details). In a future release, the default value for `weights_only` will be flipped to `True`. This limits the functions that could be executed during unpickling. Arbitrary objects will no longer be allowed to be loaded via this mode unless they are explicitly allowlisted by the user via `torch.serialization.add_safe_globals`. We recommend you start setting `weights_only=True` for any use case where you don't have full control of the loaded file. Please open an issue on GitHub for any issues related to this experimental feature.\n",
      "  res = torch.load(f\"metrics/100_Transformer_{dset}_{model}_{layers}_r7.pt\")\n"
     ]
    }
   ],
   "source": [
    "import numpy as np\n",
    "import torch \n",
    "model =\"distilbert\"\n",
    "dset = \"imdb\"\n",
    "layers = 2\n",
    "res = torch.load(f\"metrics/100_Transformer_{dset}_{model}_{layers}_r7.pt\")\n",
    "arr_fix = np.array(res[\"multiremoval_mse\"])\n",
    "print(arr_fix.shape)\n",
    "#if model==\"bert\":\n",
    "#res_append = torch.load(f\"metrics/lrp_Transformer_{dset}_{model}_{layers}_pretrained_r0.pt\")\n",
    "#arr_fix = np.concatenate((arr_fix, np.array(res_append[\"multiremoval_mse\"])), axis=2)"
   ]
  },
  {
   "cell_type": "code",
   "execution_count": 246,
   "id": "3c1d2408-9d5d-4d44-9ba6-bd1efe27447f",
   "metadata": {},
   "outputs": [
    {
     "data": {
      "text/plain": [
       "(100, 10, 10)"
      ]
     },
     "execution_count": 246,
     "metadata": {},
     "output_type": "execute_result"
    }
   ],
   "source": [
    "arr_fix.shape"
   ]
  },
  {
   "cell_type": "code",
   "execution_count": 247,
   "id": "f920edd1-1944-4fe2-bde4-093dfc01b7fe",
   "metadata": {},
   "outputs": [],
   "source": [
    "res_dicts_mean = arr_fix.mean(axis=0)"
   ]
  },
  {
   "cell_type": "code",
   "execution_count": 248,
   "id": "6b73af17-4251-454d-91f5-705eae4afc7d",
   "metadata": {},
   "outputs": [
    {
     "data": {
      "text/plain": [
       "array([1.08688894e-01, 3.21568657e+03, 1.76560125e-01, 4.37387785e+01,\n",
       "       1.31439845e-01, 1.83947119e-01, 4.40696683e+01, 5.89227457e+00,\n",
       "       1.44337757e-01, 1.89763825e-01])"
      ]
     },
     "execution_count": 248,
     "metadata": {},
     "output_type": "execute_result"
    }
   ],
   "source": [
    "res_dicts_mean[9,:]"
   ]
  },
  {
   "cell_type": "code",
   "execution_count": 249,
   "id": "d7a77862-2156-42dc-bdf0-ef0339a8df09",
   "metadata": {},
   "outputs": [
    {
     "data": {
      "image/png": "[encoded data removed]",
      "text/plain": [
       "<Figure size 370x290 with 1 Axes>"
      ]
     },
     "metadata": {},
     "output_type": "display_data"
    }
   ],
   "source": [
    "import matplotlib.pyplot as plt\n",
    "plt.style.use('figures/matplot.mplstyle')\n",
    "from matplotlib import pyplot\n",
    "\n",
    "res_dicts_mean = arr_fix.mean(axis=0)\n",
    "res_dicts_std = arr_fix.std(axis=0)/10\n",
    "#labels=[\"SLALOM\", \"SHAP\", \"LIME\", \"Constant\", \"SLALOM-i-fix\"]\n",
    "labels = [\"SLALOM-faith\", \"lin\", \"SLALOM-eff\", \"lin2\", \"LIME\", \"SHAP\", \"Grad\", \"IG\", \"LRP\", \"Constant\"]\n",
    "colors=[\"tab:blue\", \"tab:orange\", \"tab:red\", \"tab:purple\", \"tab:brown\", \"tab:green\", \"tab:olive\", \"c\", \"m\", \"k\", \"tab:orange\"]\n",
    "handles =[]\n",
    "ax = plt.gca()\n",
    "for i in range(res_dicts_mean.shape[1]):\n",
    "    if labels[i] in [\"SLALOM-faith\", \"SLALOM-eff\", \"LIME\", \"SHAP\", \"Grad\", \"IG\", \"LRP\", \"Constant\"]:\n",
    "        color_use = colors[i]\n",
    "        if labels[i] != \"Constant\":\n",
    "            plt.fill_between(1+np.arange(res_dicts_mean.shape[0]), res_dicts_mean[:,i]+res_dicts_std[:,i], res_dicts_mean[:,i]-res_dicts_std[:,i], color=color_use, alpha = 0.1)\n",
    "            handles.append(ax.plot(1+np.arange(res_dicts_mean.shape[0]), res_dicts_mean[:,i], \"--\" if \"fix\" in labels[i] else \"-\", label = labels[i], color=color_use, marker=\"s\")[0])\n",
    "        else:\n",
    "            pass\n",
    "            #handles.append(ax.plot(1+np.arange(res_dicts_mean.shape[0]), res_dicts_mean[:,i], \"--\", label = labels[i], color=color_use)[0])  \n",
    "y_lim_low = 0.001\n",
    "diff = (1.0-(res_dicts_mean[9,0]/res_dicts_mean[9,8]))*100\n",
    "plt.annotate(f\"-{int(diff)}\\%\", xy = (10, res_dicts_mean[9,0]), xytext=(9, 2*y_lim_low), arrowprops=dict(facecolor='black', width=1.5, headwidth=5))\n",
    "pyplot.yscale('log')\n",
    "#plt.ylim([0.1, 1])\n",
    "plt.ylim([y_lim_low, 10])\n",
    "#plt.ylim([0.00005, 0.01])\n",
    "plt.xlabel(\"\\# token removals\")\n",
    "plt.ylabel(\"prediction MSE\")\n",
    "#plt.legend(loc = \"center right\",ncol=2) # handles=[handles[0], handles[4], handles[1], handles[2], handles[3]]\n",
    "plt.gcf().set_size_inches(3.7, 2.9)\n",
    "plt.tight_layout()\n",
    "plt.gcf().savefig(f\"figures/multiremoval_{model}.pdf\")\n",
    "plt.show()"
   ]
  }
 ],
 "metadata": {
  "kernelspec": {
   "display_name": "transformer",
   "language": "python",
   "name": "transformer"
  },
  "language_info": {
   "codemirror_mode": {
    "name": "ipython",
    "version": 3
   },
   "file_extension": ".py",
   "mimetype": "text/x-python",
   "name": "python",
   "nbconvert_exporter": "python",
   "pygments_lexer": "ipython3",
   "version": "3.10.11"
  }
 },
 "nbformat": 4,
 "nbformat_minor": 5
}

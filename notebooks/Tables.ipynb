{
 "cells": [
  {
   "cell_type": "markdown",
   "id": "fb6a4e8b-6352-4728-8f2a-65def36a4e6e",
   "metadata": {},
   "source": [
    "## Print Tables"
   ]
  },
  {
   "cell_type": "code",
   "execution_count": 3,
   "id": "38ee441c-d6cc-4580-a0ca-7776f9601bc3",
   "metadata": {},
   "outputs": [],
   "source": [
    "import os\n",
    "os.chdir(\"..\")"
   ]
  },
  {
   "cell_type": "markdown",
   "id": "7d6915a8-eb8c-41a6-92a6-6e0a0818de0f",
   "metadata": {},
   "source": [
    "# Linear Correlations "
   ]
  },
  {
   "cell_type": "code",
   "execution_count": 85,
   "id": "16105730-682e-452f-849a-fefbc5ea8189",
   "metadata": {},
   "outputs": [
    {
     "name": "stdout",
     "output_type": "stream",
     "text": [
      "distilbert & \\wstd{0.691}{0.05} & \\wstd{0.619}{0.06} & \\wstd{-0.285}{0.12} & \\wstd{-0.215}{0.12} & \\wstd{0.706}{0.05}\\\\\n",
      "bert & \\wstd{0.616}{0.08} & \\wstd{0.554}{0.09} & \\wstd{-0.125}{0.14} & \\wstd{-0.123}{0.14} & \\wstd{0.639}{0.08}\\\\\n",
      "gpt2 & \\wstd{0.213}{0.13} & \\wstd{0.560}{0.09} & \\wstd{0.033}{0.13} & \\wstd{0.031}{0.13} & \\wstd{0.615}{0.08}\\\\\n"
     ]
    },
    {
     "name": "stderr",
     "output_type": "stream",
     "text": [
      "/tmp/ipykernel_1586791/1842700204.py:5: FutureWarning: You are using `torch.load` with `weights_only=False` (the current default value), which uses the default pickle module implicitly. It is possible to construct malicious pickle data which will execute arbitrary code during unpickling (See https://github.com/pytorch/pytorch/blob/main/SECURITY.md#untrusted-models for more details). In a future release, the default value for `weights_only` will be flipped to `True`. This limits the functions that could be executed during unpickling. Arbitrary objects will no longer be allowed to be loaded via this mode unless they are explicitly allowlisted by the user via `torch.serialization.add_safe_globals`. We recommend you start setting `weights_only=True` for any use case where you don't have full control of the loaded file. Please open an issue on GitHub for any issues related to this experimental feature.\n",
      "  res = torch.load(f\"metrics/100_Transformer_imdb_{m}_2_r7.pt\")\n",
      "/tmp/ipykernel_1586791/1842700204.py:7: RuntimeWarning: Mean of empty slice\n",
      "  res_val_m = np.nanmean(res_np, axis=0)\n"
     ]
    }
   ],
   "source": [
    "import torch\n",
    "models = [\"distilbert\", \"bert\", \"gpt2\"]\n",
    "all_res = []\n",
    "for m in models:\n",
    "    res = torch.load(f\"metrics/100_Transformer_imdb_{m}_2_r7.pt\")\n",
    "    res_np = np.array(res['groundtruth-nb'])\n",
    "    res_val_m = np.nanmean(res_np, axis=0)\n",
    "    res_val_std = np.nanstd(res_np, axis=0)\n",
    "    res_str = \" & \".join([r\"\\wstd{\" + f\"{res_val_m[method]:.3f}\" +\"}{\"+ f\"{res_val_std[method]:.2f}\" +\"}\" for method in range(6, 11)])\n",
    "    print(m + \" & \" + res_str + r\"\\\\\")\n",
    "    all_res.append(res_val_m)\n",
    "all_res = np.stack(all_res)"
   ]
  },
  {
   "cell_type": "code",
   "execution_count": 79,
   "id": "09b39082-95b8-4f52-8271-ed789dc7f5ef",
   "metadata": {},
   "outputs": [
    {
     "data": {
      "text/plain": [
       "array([ 0.51433181,         nan,  0.51488564,  0.64297735,  0.33770221,\n",
       "        0.64600903,  0.50657369,  0.57755333, -0.12557147, -0.10244818,\n",
       "        0.65312488,         nan])"
      ]
     },
     "execution_count": 79,
     "metadata": {},
     "output_type": "execute_result"
    }
   ],
   "source": [
    "all_res.mean(axis=0)"
   ]
  },
  {
   "cell_type": "code",
   "execution_count": 36,
   "id": "d469cde6-cf16-46ed-8a6f-c46c33b8b59d",
   "metadata": {},
   "outputs": [],
   "source": [
    "import numpy as np\n"
   ]
  },
  {
   "cell_type": "markdown",
   "id": "e2b5cf97-3e26-4718-9f7e-46aa04bd1921",
   "metadata": {},
   "source": [
    "## Human attention"
   ]
  },
  {
   "cell_type": "code",
   "execution_count": 66,
   "id": "96a03e77-ba39-44e5-9ea7-1ee2bc607836",
   "metadata": {},
   "outputs": [
    {
     "name": "stdout",
     "output_type": "stream",
     "text": [
      "Bert & \\wstd{0.786}{0.01} & \\wstd{0.807}{0.01} & \\wstd{0.801}{0.01} & \\wstd{0.805}{0.01} & \\wstd{0.800}{0.01} & \\wstd{0.813}{0.01}\\\\\n",
      "Distil-BERT & \\wstd{0.688}{0.01} & \\wstd{0.681}{0.01} & \\wstd{0.686}{0.01} & \\wstd{0.702}{0.01} & \\wstd{0.668}{0.01} & \\wstd{0.703}{0.01}\\\\\n",
      "GPT-2 & \\wstd{0.674}{0.01} & \\wstd{0.685}{0.01} & \\wstd{0.683}{0.01} & \\wstd{0.632}{0.01} & \\wstd{0.671}{0.01} & \\wstd{0.699}{0.01}\\\\\n"
     ]
    }
   ],
   "source": [
    "import json\n",
    "import numpy as np\n",
    "models = {\"Bert\": \"bert\", \"Distil-BERT\": \"distilbert\", \"GPT-2\": \"gpt2\"}\n",
    "all_res = []\n",
    "for k, m in models.items():\n",
    "    res = json.load(open(f\"metrics/corr_yelp_results_yelp_{m}_6_r7.json\"))\n",
    "    res_val = np.array(res['and'])\n",
    "    #print(res_val.shape)\n",
    "    all_res.append(np.array(res['and']).mean(axis=0))\n",
    "    res_val_m = res_val.mean(axis=0)\n",
    "    res_val_std =  res_val.std(axis=0)/np.sqrt(len(res_val))\n",
    "    res_str = \" & \".join([r\"\\wstd{\" + f\"{res_val_m[method]:.3f}\" +\"}{\"+ f\"{res_val_std[method]:.2f}\" +\"}\" for method in range(6)])\n",
    "    print(k + \" & \" + res_str +r\"\\\\\") \n",
    "all_res = np.stack(all_res)"
   ]
  },
  {
   "cell_type": "code",
   "execution_count": 61,
   "id": "85e1f688-4ed5-43c2-ab11-d64e4de2cc7d",
   "metadata": {},
   "outputs": [
    {
     "data": {
      "text/plain": [
       "array([0.71598996, 0.72408951, 0.72362439, 0.71315507, 0.71312632,\n",
       "       0.73844277])"
      ]
     },
     "execution_count": 61,
     "metadata": {},
     "output_type": "execute_result"
    }
   ],
   "source": [
    "all_res.mean(axis=0)"
   ]
  },
  {
   "cell_type": "markdown",
   "id": "e971ea3d-b65f-4f36-ad30-b6a61b8a5b30",
   "metadata": {},
   "source": [
    "## Timing"
   ]
  },
  {
   "cell_type": "code",
   "execution_count": 50,
   "id": "fe6dca4f-8f4f-4665-be11-d31dc5625dc5",
   "metadata": {},
   "outputs": [
    {
     "name": "stdout",
     "output_type": "stream",
     "text": [
      "SHAP  & \\wstd{107.91}{3.24}\\\\\\\\\n",
      "LIME  & \\wstd{26.89}{1.46}\\\\\\\\\n",
      "IG  & \\wstd{0.20}{0.01}\\\\\\\\\n",
      "Grad  & \\wstd{0.03}{0.00}\\\\\\\\\n",
      "SLALOM-eff  & \\wstd{5.51}{0.13}\\\\\\\\\n",
      "SLALOM-faith  & \\wstd{39.57}{3.76}\\\\\\\\\n",
      "LRP  & \\wstd{0.07}{0.00}\\\\\\\\\n"
     ]
    }
   ],
   "source": [
    "for k,v in json.load(open(\"metrics/runtime_100_5000.json\")).items():\n",
    "    print(k, r\" & \\wstd{\"  f\"{-np.array(v).mean():.2f}\"+ \"}{\"+ f\"{np.array(v).std()/10:.2f}\" + r\"}\\\\\\\\\")"
   ]
  },
  {
   "cell_type": "code",
   "execution_count": null,
   "id": "8c97f04b-d0a0-47bd-8095-a7c0b11350aa",
   "metadata": {},
   "outputs": [],
   "source": []
  },
  {
   "cell_type": "code",
   "execution_count": null,
   "id": "6c8a0256-7176-4dc6-ad8c-5d227f8242b1",
   "metadata": {},
   "outputs": [],
   "source": []
  }
 ],
 "metadata": {
  "kernelspec": {
   "display_name": "transformer",
   "language": "python",
   "name": "transformer"
  },
  "language_info": {
   "codemirror_mode": {
    "name": "ipython",
    "version": 3
   },
   "file_extension": ".py",
   "mimetype": "text/x-python",
   "name": "python",
   "nbconvert_exporter": "python",
   "pygments_lexer": "ipython3",
   "version": "3.10.11"
  }
 },
 "nbformat": 4,
 "nbformat_minor": 5
}

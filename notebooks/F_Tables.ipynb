{
 "cells": [
  {
   "cell_type": "markdown",
   "id": "fb6a4e8b-6352-4728-8f2a-65def36a4e6e",
   "metadata": {},
   "source": [
    "## Print Tables"
   ]
  },
  {
   "cell_type": "code",
   "execution_count": 1,
   "id": "38ee441c-d6cc-4580-a0ca-7776f9601bc3",
   "metadata": {},
   "outputs": [],
   "source": [
    "import os\n",
    "os.chdir(\"..\")"
   ]
  },
  {
   "cell_type": "markdown",
   "id": "7d6915a8-eb8c-41a6-92a6-6e0a0818de0f",
   "metadata": {},
   "source": [
    "# Linear Correlations "
   ]
  },
  {
   "cell_type": "code",
   "execution_count": 6,
   "id": "16105730-682e-452f-849a-fefbc5ea8189",
   "metadata": {},
   "outputs": [
    {
     "name": "stdout",
     "output_type": "stream",
     "text": [
      "distilbert & \\wstd{0.602}{0.10} & \\wstd{0.020}{0.08} & \\wstd{0.602}{0.10} & \\wstd{0.692}{0.05} & \\wstd{0.373}{0.09} & \\wstd{0.693}{0.05} & \\wstd{0.691}{0.05} & \\wstd{0.619}{0.06} & \\wstd{-0.285}{0.12} & \\wstd{-0.215}{0.12} & \\wstd{0.706}{0.05} \\\\\n",
      "bert & \\wstd{0.475}{0.12} & \\wstd{0.031}{0.09} & \\wstd{0.474}{0.12} & \\wstd{0.619}{0.08} & \\wstd{0.349}{0.09} & \\wstd{0.626}{0.08} & \\wstd{0.616}{0.08} & \\wstd{0.554}{0.09} & \\wstd{-0.125}{0.14} & \\wstd{-0.123}{0.14} & \\wstd{0.639}{0.08} \\\\\n",
      "gpt2 & \\wstd{0.467}{0.17} & \\wstd{0.017}{0.08} & \\wstd{0.468}{0.17} & \\wstd{0.618}{0.08} & \\wstd{0.292}{0.10} & \\wstd{0.619}{0.08} & \\wstd{0.213}{0.13} & \\wstd{0.560}{0.09} & \\wstd{0.033}{0.13} & \\wstd{0.031}{0.13} & \\wstd{0.615}{0.08} \\\\\n"
     ]
    },
    {
     "name": "stderr",
     "output_type": "stream",
     "text": [
      "/tmp/ipykernel_3920436/1208939367.py:6: FutureWarning: You are using `torch.load` with `weights_only=False` (the current default value), which uses the default pickle module implicitly. It is possible to construct malicious pickle data which will execute arbitrary code during unpickling (See https://github.com/pytorch/pytorch/blob/main/SECURITY.md#untrusted-models for more details). In a future release, the default value for `weights_only` will be flipped to `True`. This limits the functions that could be executed during unpickling. Arbitrary objects will no longer be allowed to be loaded via this mode unless they are explicitly allowlisted by the user via `torch.serialization.add_safe_globals`. We recommend you start setting `weights_only=True` for any use case where you don't have full control of the loaded file. Please open an issue on GitHub for any issues related to this experimental feature.\n",
      "  res = torch.load(f\"metrics/100_Transformer_imdb_{m}_2_r7.pt\")\n",
      "/tmp/ipykernel_3920436/1208939367.py:8: RuntimeWarning: Mean of empty slice\n",
      "  res_val_m = np.nanmean(res_np, axis=0)\n"
     ]
    }
   ],
   "source": [
    "import torch\n",
    "import numpy as np\n",
    "models = [\"distilbert\", \"bert\", \"gpt2\"]\n",
    "all_res = []\n",
    "for m in models:\n",
    "    res = torch.load(f\"metrics/100_Transformer_imdb_{m}_2_r7.pt\")\n",
    "    res_np = np.array(res['groundtruth-nb'])\n",
    "    res_val_m = np.nanmean(res_np, axis=0)\n",
    "    res_val_std = np.nanstd(res_np, axis=0)\n",
    "    res_str = \" & \".join([r\"\\wstd{\" + f\"{res_val_m[method]:.3f}\" +\"}{\"+ f\"{res_val_std[method]:.2f}\" +\"}\" for method in range(0, 11)])\n",
    "    print(m + \" & \" + res_str + r\" \\\\\")\n",
    "    all_res.append(res_val_m)\n",
    "all_res = np.stack(all_res)\n",
    "# Order of scores as in Table 9"
   ]
  },
  {
   "cell_type": "code",
   "execution_count": 36,
   "id": "d469cde6-cf16-46ed-8a6f-c46c33b8b59d",
   "metadata": {},
   "outputs": [],
   "source": [
    "import numpy as np"
   ]
  },
  {
   "cell_type": "markdown",
   "id": "e2b5cf97-3e26-4718-9f7e-46aa04bd1921",
   "metadata": {},
   "source": [
    "## Human attention"
   ]
  },
  {
   "cell_type": "code",
   "execution_count": 94,
   "id": "96a03e77-ba39-44e5-9ea7-1ee2bc607836",
   "metadata": {},
   "outputs": [
    {
     "name": "stdout",
     "output_type": "stream",
     "text": [
      "Bert & \\wstd{0.757}{0.02} & \\wstd{0.475}{0.01} & \\wstd{0.767}{0.02} & \\wstd{0.772}{0.02} & \\wstd{0.781}{0.02} & \\wstd{0.782}{0.02} & \\wstd{0.789}{0.02} & \\wstd{0.783}{0.02} & \\wstd{0.798}{0.02}\\\\\n",
      "Distil-BERT & \\wstd{0.704}{0.02} & \\wstd{0.488}{0.01} & \\wstd{0.703}{0.02} & \\wstd{0.672}{0.02} & \\wstd{0.664}{0.02} & \\wstd{0.667}{0.02} & \\wstd{0.685}{0.02} & \\wstd{0.660}{0.02} & \\wstd{0.684}{0.02}\\\\\n",
      "GPT-2 & \\wstd{0.710}{0.02} & \\wstd{0.499}{0.00} & \\wstd{0.711}{0.02} & \\wstd{0.671}{0.02} & \\wstd{0.677}{0.02} & \\wstd{0.675}{0.02} & \\wstd{0.627}{0.02} & \\wstd{0.679}{0.02} & \\wstd{0.699}{0.02}\\\\\n"
     ]
    }
   ],
   "source": [
    "import json\n",
    "import numpy as np\n",
    "models = {\"Bert\": \"bert\", \"Distil-BERT\": \"distilbert\", \"GPT-2\": \"gpt2\"}\n",
    "all_res = []\n",
    "for k, m in models.items():\n",
    "    res = json.load(open(f\"metrics/corr_100_yelp_results_yelp_{m}_6_r7.json\"))\n",
    "    res_val = np.array(res['and'])\n",
    "    #print(res_val.shape)\n",
    "    all_res.append(np.array(res['and']).mean(axis=0))\n",
    "    res_val_m = res_val.mean(axis=0)\n",
    "    res_val_std =  res_val.std(axis=0)/np.sqrt(len(res_val))\n",
    "    res_str = \" & \".join([r\"\\wstd{\" + f\"{res_val_m[method]:.3f}\" +\"}{\"+ f\"{res_val_std[method]:.2f}\" +\"}\" for method in range(9)])\n",
    "    print(k + \" & \" + res_str +r\"\\\\\") \n",
    "all_res = np.stack(all_res)"
   ]
  },
  {
   "cell_type": "markdown",
   "id": "e971ea3d-b65f-4f36-ad30-b6a61b8a5b30",
   "metadata": {},
   "source": [
    "## Timing"
   ]
  },
  {
   "cell_type": "code",
   "execution_count": 100,
   "id": "fe6dca4f-8f4f-4665-be11-d31dc5625dc5",
   "metadata": {},
   "outputs": [
    {
     "name": "stdout",
     "output_type": "stream",
     "text": [
      "SHAP  & \\wstd{11.56}{0.03}\\\\\n",
      "LIME  & \\wstd{3.93}{0.19}\\\\\n",
      "IG  & \\wstd{0.02}{0.00}\\\\\n",
      "Grad  & \\wstd{0.01}{0.00}\\\\\n",
      "SLALOM-eff  & \\wstd{2.03}{0.01}\\\\\n",
      "SLALOM-faith  & \\wstd{3.77}{0.24}\\\\\n",
      "LRP  & \\wstd{0.02}{0.00}\\\\\n"
     ]
    }
   ],
   "source": [
    "for k,v in json.load(open(\"metrics/runtime_50_5000.json\")).items():\n",
    "    print(k, r\" & \\wstd{\"  f\"{-np.array(v).mean():.2f}\"+ \"}{\"+ f\"{np.array(v).std()/10:.2f}\" + r\"}\\\\\")"
   ]
  },
  {
   "cell_type": "code",
   "execution_count": 106,
   "id": "8c97f04b-d0a0-47bd-8095-a7c0b11350aa",
   "metadata": {},
   "outputs": [
    {
     "name": "stdout",
     "output_type": "stream",
     "text": [
      "SHAP & \\wstd{2.35}{0.01} & \\wstd{4.62}{0.02} & \\wstd{11.56}{0.03} & \\wstd{23.08}{0.08}\n",
      "LIME & \\wstd{0.80}{0.04} & \\wstd{1.58}{0.07} & \\wstd{3.93}{0.19} & \\wstd{8.04}{0.39}\n",
      "IG & \\wstd{0.02}{0.00} & \\wstd{0.02}{0.00} & \\wstd{0.02}{0.00} & \\wstd{0.02}{0.00}\n",
      "Grad & \\wstd{0.01}{0.00} & \\wstd{0.01}{0.00} & \\wstd{0.01}{0.00} & \\wstd{0.01}{0.00}\n",
      "SLALOM-eff & \\wstd{0.42}{0.01} & \\wstd{0.80}{0.01} & \\wstd{2.03}{0.01} & \\wstd{4.13}{0.02}\n",
      "SLALOM-faith & \\wstd{0.74}{0.03} & \\wstd{1.42}{0.06} & \\wstd{3.77}{0.24} & \\wstd{7.95}{0.41}\n",
      "LRP & \\wstd{0.02}{0.00} & \\wstd{0.02}{0.00} & \\wstd{0.02}{0.00} & \\wstd{0.02}{0.00}\n"
     ]
    }
   ],
   "source": [
    "num_samples = [1000, 2000, 5000, 10000] # 10000\n",
    "for k,v in json.load(open(\"metrics/runtime_50_5000.json\")).items():\n",
    "    mystr = k\n",
    "    for n in num_samples:\n",
    "        res_samples = json.load(open(f\"metrics/runtime_50_{n}.json\"))[k]\n",
    "        mystr += r\" & \\wstd{\" + f\"{-np.array(res_samples).mean():.2f}\"+ \"}{\"+ f\"{np.array(res_samples).std()/10:.2f}\" + \"}\"\n",
    "    print(mystr)"
   ]
  },
  {
   "cell_type": "code",
   "execution_count": null,
   "id": "6c8a0256-7176-4dc6-ad8c-5d227f8242b1",
   "metadata": {},
   "outputs": [],
   "source": []
  }
 ],
 "metadata": {
  "kernelspec": {
   "display_name": "transformer",
   "language": "python",
   "name": "transformer"
  },
  "language_info": {
   "codemirror_mode": {
    "name": "ipython",
    "version": 3
   },
   "file_extension": ".py",
   "mimetype": "text/x-python",
   "name": "python",
   "nbconvert_exporter": "python",
   "pygments_lexer": "ipython3",
   "version": "3.10.11"
  }
 },
 "nbformat": 4,
 "nbformat_minor": 5
}

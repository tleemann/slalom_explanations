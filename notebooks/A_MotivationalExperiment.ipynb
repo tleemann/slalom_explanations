{
 "cells": [
  {
   "cell_type": "markdown",
   "id": "7a232b18-9e7e-4536-a69d-1e1d95c5fc73",
   "metadata": {},
   "source": [
    "## Motivational Shapley Value Experiment"
   ]
  },
  {
   "cell_type": "markdown",
   "id": "16468b5d-4449-4487-9be9-b72936c54e39",
   "metadata": {},
   "source": [
    "Run this notebook to recreate the example in Appendix A."
   ]
  },
  {
   "cell_type": "code",
   "execution_count": 1,
   "id": "7f6a2087-0426-439e-b62b-9633acf0db35",
   "metadata": {},
   "outputs": [],
   "source": [
    "%load_ext autoreload\n",
    "%autoreload 2"
   ]
  },
  {
   "cell_type": "code",
   "execution_count": 2,
   "id": "eef667fd-7ff3-45c9-9b91-c44a668e926e",
   "metadata": {},
   "outputs": [],
   "source": [
    "import os\n",
    "os.chdir(\"..\")"
   ]
  },
  {
   "cell_type": "markdown",
   "id": "9a96922e-acac-4049-a550-70a2d2553b07",
   "metadata": {},
   "source": [
    "Training commands: Train models with the following command:\n",
    "```\n",
    ".scripts/train_models_linear.sh\n",
    "```"
   ]
  },
  {
   "cell_type": "code",
   "execution_count": 3,
   "id": "8cc340d2-2850-4d12-9011-bb42ab2b04c5",
   "metadata": {},
   "outputs": [],
   "source": [
    "import torch\n",
    "from slalom_explanations.transformer_models import DistilBert, GPT2, Bert\n",
    "from transformers import AutoTokenizer"
   ]
  },
  {
   "cell_type": "code",
   "execution_count": 4,
   "id": "c0dce511-f216-4e57-8684-7b4f49594bbc",
   "metadata": {},
   "outputs": [],
   "source": [
    "def compute_logits_for_single_token(model, tokenizer, n_max=10, use_cls=True, input_str=\"perfect\", use_device=\"cuda:2\"):\n",
    "    logit_results = []\n",
    "    cls_tok = torch.tensor([101])\n",
    "    input_tok = torch.tensor(tokenizer.convert_tokens_to_ids(input_str)).reshape(1)\n",
    "    sep_tok = torch.tensor([102])\n",
    "    with torch.no_grad():\n",
    "        x = input_tok\n",
    "        for i in range(n_max):\n",
    "            #print(x)\n",
    "            if use_cls:\n",
    "                input = torch.cat((cls_tok, x, sep_tok))\n",
    "            else:\n",
    "                input =x\n",
    "            logit_score = model(input.reshape(1,-1).to(use_device))[\"logits\"]\n",
    "            logit_results.append(logit_score.detach().cpu())\n",
    "            x = torch.cat((x, input_tok), dim=0)\n",
    "        \n",
    "    return torch.stack(logit_results)"
   ]
  },
  {
   "cell_type": "markdown",
   "id": "8d464284-fe51-4993-b7cb-8f39e141ca22",
   "metadata": {},
   "source": [
    "### 2 layers"
   ]
  },
  {
   "cell_type": "code",
   "execution_count": 15,
   "id": "7d34567a-1808-4a5d-a042-4aa171ef2197",
   "metadata": {},
   "outputs": [
    {
     "name": "stderr",
     "output_type": "stream",
     "text": [
      "/tmp/ipykernel_3552432/1516351806.py:6: FutureWarning: You are using `torch.load` with `weights_only=False` (the current default value), which uses the default pickle module implicitly. It is possible to construct malicious pickle data which will execute arbitrary code during unpickling (See https://github.com/pytorch/pytorch/blob/main/SECURITY.md#untrusted-models for more details). In a future release, the default value for `weights_only` will be flipped to `True`. This limits the functions that could be executed during unpickling. Arbitrary objects will no longer be allowed to be loaded via this mode unless they are explicitly allowlisted by the user via `torch.serialization.add_safe_globals`. We recommend you start setting `weights_only=True` for any use case where you don't have full control of the loaded file. Please open an issue on GitHub for any issues related to this experimental feature.\n",
      "  s_dict = torch.load(f\"{prefix_path}/{run}\")\n",
      "Some weights of DistilBertForSequenceClassification were not initialized from the model checkpoint at distilbert/distilbert-base-uncased and are newly initialized: ['classifier.bias', 'classifier.weight', 'pre_classifier.bias', 'pre_classifier.weight']\n",
      "You should probably TRAIN this model on a down-stream task to be able to use it for predictions and inference.\n",
      "Some weights of GPT2ForSequenceClassification were not initialized from the model checkpoint at gpt2 and are newly initialized: ['score.weight']\n",
      "You should probably TRAIN this model on a down-stream task to be able to use it for predictions and inference.\n"
     ]
    }
   ],
   "source": [
    "prefix_path= \"models_lin_bin_rerun\"\n",
    "run_ids = [\"sparsebow_bert_2_r0.pt\", \"sparsebow_gpt2_2_r0.pt\"] ## insert run_ids here.\n",
    "\n",
    "model_list, tok_list = [], []\n",
    "for run in run_ids:\n",
    "    s_dict = torch.load(f\"{prefix_path}/{run}\")\n",
    "    # extract num_layers, num_heads\n",
    "    parts = run.split(\"_\")\n",
    "    n_heads = 12\n",
    "    n_layers = int(parts[-2])\n",
    "    use_device = \"cuda:2\"\n",
    "    if \"gpt2\" in run:\n",
    "        model_obj = GPT2(n_layer=n_layers, n_head=n_heads)\n",
    "        tokenizer = AutoTokenizer.from_pretrained('distilgpt2', use_fast=True)\n",
    "    else:\n",
    "        if \"distilbert\" in run:\n",
    "            model_obj = DistilBert(n_layers=n_layers, n_heads=n_heads)\n",
    "        else:\n",
    "            model_obj = Bert(n_layers=n_layers, n_heads=n_heads)\n",
    "        tokenizer = AutoTokenizer.from_pretrained('bert-base-uncased', use_fast=True)\n",
    "    model_obj.model.load_state_dict(s_dict)\n",
    "    for p in model_obj.model.parameters():\n",
    "        p.requires_grad_(False)\n",
    "        \n",
    "    model_trained = model_obj.model.to(use_device).eval()\n",
    "    model_list.append(model_trained)\n",
    "    tok_list.append(tokenizer)"
   ]
  },
  {
   "cell_type": "code",
   "execution_count": 16,
   "id": "707466fd-8ab0-4879-823c-db8baebaba9a",
   "metadata": {},
   "outputs": [
    {
     "name": "stdout",
     "output_type": "stream",
     "text": [
      "tensor([0.5247], device='cuda:2')\n",
      "tensor([0.5176], device='cuda:2')\n"
     ]
    },
    {
     "data": {
      "text/plain": [
       "<matplotlib.legend.Legend at 0x7fc9144ca0e0>"
      ]
     },
     "execution_count": 16,
     "metadata": {},
     "output_type": "execute_result"
    },
    {
     "data": {
      "image/png": "[encoded data removed]",
      "text/plain": [
       "<Figure size 640x480 with 1 Axes>"
      ]
     },
     "metadata": {},
     "output_type": "display_data"
    }
   ],
   "source": [
    "import matplotlib.pyplot as plt\n",
    "input_str=\"perfect\",\n",
    "for r, run in enumerate(run_ids):\n",
    "    if \"bert\" in run:\n",
    "        cls_tok = torch.tensor([101, 102])\n",
    "        base_logit = model_obj.model(cls_tok.reshape(1,-1).to(use_device))[\"logits\"]\n",
    "        base_logit = base_logit[:,1]-base_logit[:,0]\n",
    "        print(base_logit)\n",
    "        w_cls = compute_logits_for_single_token(model_list[r], tok_list[r], n_max=30, use_cls=True, use_device=use_device, input_str=input_str)\n",
    "        w_cls = w_cls[:,:,1]-w_cls[:,:,0]\n",
    "        plt.plot(w_cls, \"-x\")\n",
    "    else: # GPT\n",
    "        neutral_tok = torch.tensor(tok_list[r].convert_tokens_to_ids(\"the\"))\n",
    "        #print(neutral_tok)\n",
    "        base_logit = model_obj.model(neutral_tok.reshape(1,-1).to(use_device))[\"logits\"]\n",
    "        base_logit = base_logit[:,1]-base_logit[:,0]\n",
    "        print(base_logit)\n",
    "        wo_cls = compute_logits_for_single_token(model_list[r], tok_list[r], n_max=30, use_cls=False, input_str=input_str)\n",
    "        wo_cls = wo_cls[:,:,1]-wo_cls[:,:,0]\n",
    "        lin = torch.arange(30)*(wo_cls[0]-base_logit.cpu())+base_logit.cpu()\n",
    "plt.plot(wo_cls, \"-x\", label=\"bert\")\n",
    "plt.plot(w_cls, \"-x\", label=\"gpt\")\n",
    "#plt.plot(torch.arange(30)-1,lin, \"--x\", c=\"k\", label=\"linear\")\n",
    "plt.legend()"
   ]
  },
  {
   "cell_type": "markdown",
   "id": "5e098ec0-301b-49d3-8236-eb7c3ea17e64",
   "metadata": {},
   "source": [
    "The models fail to capture the linear relationship."
   ]
  },
  {
   "cell_type": "markdown",
   "id": "70d38a1e-a270-4dea-aaa2-db6caf13b7d9",
   "metadata": {},
   "source": [
    "## Train a fixed context fully connected model on the sparse BOW"
   ]
  },
  {
   "cell_type": "code",
   "execution_count": 193,
   "id": "3fb1bcf3-38e9-46c4-9df3-0cb69f36b5cf",
   "metadata": {},
   "outputs": [],
   "source": [
    "## Load the same dataset as in the main code an train model.\n",
    "from bow_dataset import SparseBoWDataset"
   ]
  },
  {
   "cell_type": "code",
   "execution_count": 194,
   "id": "291c8d44-b7b7-435c-8454-1126af86bdcb",
   "metadata": {},
   "outputs": [],
   "source": [
    "words_dict = {\"the\": (0.2, 0.0), \"we\": (0.2, 0.0), \"movie\": (0.2, 0.0), \"watch\": (0.2, 0.0),\n",
    "      \"best\": (0.06, 1.0), \"perfect\": (0.06, 1.5), \"good\": (0.08, 0.7),\n",
    "      \"worst\": (0.06, -1.5), \"poor\": (0.06, -1.0),\"ok\": (0.08, -0.7)}"
   ]
  },
  {
   "cell_type": "code",
   "execution_count": 195,
   "id": "5d9e232d-e201-4cfc-b2b5-0df2d596ae4b",
   "metadata": {},
   "outputs": [],
   "source": [
    "import torch.nn as nn\n",
    "class TwoLayerFixedContext(nn.Module):\n",
    "    def __init__(self, input_dim: int, hidden_dim: int):\n",
    "        super().__init__()\n",
    "        self.layer1 = nn.Linear(input_dim, hidden_dim)\n",
    "        self.layer2 = nn.Linear(hidden_dim, 2)\n",
    "\n",
    "    def forward(self, x):\n",
    "        x = self.layer1(x)\n",
    "        x = torch.relu(x)\n",
    "        return self.layer2(x)"
   ]
  },
  {
   "cell_type": "code",
   "execution_count": 196,
   "id": "c86ac6ad-6721-4ec5-b1d8-8cb99a15ff14",
   "metadata": {},
   "outputs": [],
   "source": [
    "## Train the linear model using BERT embeddings\n",
    "## Create wrapper\n",
    "from torch.utils.data import DataLoader\n",
    "from wrappers import DistilBertWrapper\n",
    "run, i = \"2024-01-15-19:08:16_distilgpt2_2_12\", 5\n",
    "s_dict = torch.load(f\"{prefix_path}AttentionMatricesRaw/{run}/epoch_{str(i).zfill(3)}/model_trained.pt\")\n",
    "model_obj = DistilBert(n_layers=n_layers, n_heads=n_heads)\n",
    "wrapper = DistilBertWrapper(model_obj.model, use_device)\n",
    "distil_tok = AutoTokenizer.from_pretrained('bert-base-uncased', use_fast=True)\n",
    "\n",
    "myds = SparseBoWDataset(distil_tok, all_words_dict =  words_dict)\n",
    "mydl = DataLoader(myds, batch_size=32)"
   ]
  },
  {
   "cell_type": "code",
   "execution_count": 10,
   "id": "edc9c5e1-6675-401f-94c8-69e21022d4ce",
   "metadata": {},
   "outputs": [],
   "source": [
    "from torch.optim import Adam\n",
    "def fit_sgd(my_dl, model, num_eps=10, lr=5e-4, batch_size=32):\n",
    "    model = model.to(wrapper.use_device)\n",
    "    my_optim = Adam(model. parameters(), lr = lr)\n",
    "    losses = []\n",
    "    iters = 0\n",
    "    loss_fn = nn.CrossEntropyLoss()\n",
    "    for ep in range(num_eps):\n",
    "        losses = []\n",
    "        for batch in my_dl:\n",
    "            my_optim.zero_grad()\n",
    "            #output = example_model.forward(batch[\"input_ids\"])\n",
    "            #loss = myloss(output, batch[\"label\"])\n",
    "            input_embs = wrapper.compute_embeddings(batch[\"input_ids\"].to(wrapper.use_device), 1)\n",
    "            #print(input_embs.shape)\n",
    "            output = model.forward(input_embs.reshape(len(input_embs), -1))\n",
    "            loss = loss_fn(output, batch[\"label\"].to(wrapper.use_device))\n",
    "            loss.backward()\n",
    "            my_optim.step()\n",
    "            losses.append(loss.item())\n",
    "            iters += 1\n",
    "        print(torch.tensor([losses]).mean())\n",
    "    return model"
   ]
  },
  {
   "cell_type": "code",
   "execution_count": 11,
   "id": "f51d0504-c7d9-49e9-9979-7cf69b0a4e39",
   "metadata": {},
   "outputs": [],
   "source": [
    "fc_model = TwoLayerFixedContext(32*768, 400)"
   ]
  },
  {
   "cell_type": "code",
   "execution_count": 83,
   "id": "7781f743-d49d-4a1b-91c7-c07146d6b1e2",
   "metadata": {},
   "outputs": [
    {
     "name": "stdout",
     "output_type": "stream",
     "text": [
      "tensor(0.3792)\n",
      "tensor(0.3582)\n",
      "tensor(0.3722)\n",
      "tensor(0.3583)\n",
      "tensor(0.3694)\n",
      "tensor(0.3566)\n",
      "tensor(0.3578)\n",
      "tensor(0.3669)\n",
      "tensor(0.3615)\n",
      "tensor(0.3521)\n",
      "tensor(0.3454)\n",
      "tensor(0.3586)\n",
      "tensor(0.3497)\n",
      "tensor(0.3416)\n",
      "tensor(0.3808)\n",
      "tensor(0.3573)\n",
      "tensor(0.3577)\n",
      "tensor(0.3577)\n",
      "tensor(0.3522)\n",
      "tensor(0.3629)\n"
     ]
    },
    {
     "data": {
      "text/plain": [
       "TwoLayerFixedContext(\n",
       "  (layer1): Linear(in_features=24576, out_features=400, bias=True)\n",
       "  (layer2): Linear(in_features=400, out_features=2, bias=True)\n",
       ")"
      ]
     },
     "execution_count": 83,
     "metadata": {},
     "output_type": "execute_result"
    }
   ],
   "source": [
    "fit_sgd(mydl, fc_model, num_eps=20)"
   ]
  },
  {
   "cell_type": "code",
   "execution_count": 13,
   "id": "4aa132e4-aa6f-4a04-998c-042a3ab64d57",
   "metadata": {},
   "outputs": [],
   "source": [
    "def compute_logits_for_single_token_fc(model, n_max=10, use_cls=True):\n",
    "    logit_results = []\n",
    "    cls_tok = torch.tensor([101])\n",
    "    input_tok = torch.tensor([3819])\n",
    "    pad_tok = torch.tensor([1996])\n",
    "    inputs_pad = torch.ones(n_max+1, 32, dtype=torch.long)*pad_tok\n",
    "    if use_cls:\n",
    "        x = cls_tok.reshape(1)\n",
    "    else:\n",
    "        x = torch.empty(0)\n",
    "    \n",
    "    for i in range(n_max+1):\n",
    "        inputs_pad[i, :len(x)] = x\n",
    "        x = torch.cat((x, input_tok), dim=0)\n",
    "    inputs_pad[:,-1] = 102\n",
    "    #print(inputs_pad)\n",
    "    with torch.no_grad():\n",
    "        input_embs = wrapper.compute_embeddings(inputs_pad.to(wrapper.use_device), 1)\n",
    "        logit_score = model.forward(input_embs.reshape(len(input_embs), -1))\n",
    "        score = logit_score[:,1]-logit_score[:,0]\n",
    "    return score"
   ]
  },
  {
   "cell_type": "code",
   "execution_count": 14,
   "id": "8bf4b6c6-7887-46fd-810a-afe4a2094c84",
   "metadata": {},
   "outputs": [],
   "source": [
    "res = compute_logits_for_single_token_fc(fc_model)"
   ]
  },
  {
   "cell_type": "code",
   "execution_count": 15,
   "id": "a935ac55-dd0d-4a0e-87e6-4f14246e8222",
   "metadata": {},
   "outputs": [
    {
     "data": {
      "text/plain": [
       "tensor([ 0.2260,  1.4419,  2.9185,  4.2735,  5.1394,  5.8389,  6.8366,  7.7847,\n",
       "         8.6427,  9.5605, 10.4050], device='cuda:2')"
      ]
     },
     "execution_count": 15,
     "metadata": {},
     "output_type": "execute_result"
    }
   ],
   "source": [
    "res"
   ]
  },
  {
   "cell_type": "code",
   "execution_count": 88,
   "id": "453379ce-aea4-483b-a159-a7199a4096cc",
   "metadata": {},
   "outputs": [
    {
     "data": {
      "text/plain": [
       "[<matplotlib.lines.Line2D at 0x7f766c5c4d30>]"
      ]
     },
     "execution_count": 88,
     "metadata": {},
     "output_type": "execute_result"
    },
    {
     "data": {
      "image/png": "[encoded data removed]",
      "text/plain": [
       "<Figure size 400x400 with 1 Axes>"
      ]
     },
     "metadata": {},
     "output_type": "display_data"
    }
   ],
   "source": [
    "import matplotlib.pyplot as plt\n",
    "res = res.cpu()\n",
    "plt.plot(res)\n",
    "plt.plot(torch.arange(len(res))*(res[1]-res[0])+res[0], \"--k\")"
   ]
  },
  {
   "cell_type": "markdown",
   "id": "55809d8c-d091-4d70-a970-9662972b8d91",
   "metadata": {},
   "source": [
    "## Calculate shapley values for this case."
   ]
  },
  {
   "cell_type": "code",
   "execution_count": 146,
   "id": "54b08adf-5e6a-48f5-b46c-776c57f12881",
   "metadata": {},
   "outputs": [],
   "source": [
    "from ground_truth_models import ShapleyValues"
   ]
  },
  {
   "cell_type": "code",
   "execution_count": 204,
   "id": "8129160d-30a1-4fbe-9361-b25f7adc8338",
   "metadata": {},
   "outputs": [
    {
     "name": "stdout",
     "output_type": "stream",
     "text": [
      "0\n",
      "1\n",
      "2\n",
      "3\n",
      "4\n",
      "5\n",
      "6\n",
      "7\n",
      "8\n",
      "9\n",
      "10\n",
      "11\n",
      "12\n",
      "13\n",
      "14\n",
      "15\n",
      "16\n",
      "17\n",
      "18\n",
      "19\n",
      "0\n",
      "1\n",
      "2\n",
      "3\n",
      "4\n",
      "5\n",
      "6\n",
      "7\n",
      "8\n",
      "9\n",
      "10\n",
      "11\n",
      "12\n",
      "13\n",
      "14\n",
      "15\n",
      "16\n",
      "17\n",
      "18\n",
      "19\n"
     ]
    }
   ],
   "source": [
    "shap_lists_runs = []\n",
    "for k, r in enumerate(run_ids):\n",
    "    myShap = ShapleyValues(model_list[k], tok_list[k], method=\"kernel\", num_samples = 500, impute_token=\"the\")\n",
    "    use_cls = (\"bert\" in r)\n",
    "    relevant_token = \"perfect\"\n",
    "    shap_list = []\n",
    "    cls_tok = torch.tensor([101])\n",
    "    sep_tok = torch.tensor([102])\n",
    "    input_tok = torch.tensor(tok_list[k].convert_tokens_to_ids(relevant_token)).reshape(1)\n",
    "    if use_cls:\n",
    "        x = torch.cat((cls_tok, input_tok), dim=0)\n",
    "    else:\n",
    "        x = input_tok\n",
    "        \n",
    "    for i in range(20):\n",
    "        print(i)\n",
    "        if use_cls:\n",
    "            x_sep =  torch.cat((x, sep_tok), dim=0)\n",
    "        else:\n",
    "            x_sep = x\n",
    "        #print(x_sep)\n",
    "        shapley = myShap.get_signed_importance_for_tokens([i.item() for i in x_sep.flatten()])\n",
    "        #print(shapley)\n",
    "        shap_list.append(torch.tensor(shapley))\n",
    "        x = torch.cat((x, input_tok), dim=0)\n",
    "    shap_lists_runs.append(shap_list)"
   ]
  },
  {
   "cell_type": "markdown",
   "id": "707fa225-6acc-4356-b16b-a9c92fb066e3",
   "metadata": {},
   "source": [
    "## Compute SHAP values for the linear model"
   ]
  },
  {
   "cell_type": "code",
   "execution_count": 84,
   "id": "a1e55ea1-cdcf-434f-87a7-47f77bcdd265",
   "metadata": {},
   "outputs": [],
   "source": [
    "## Wrapper for linear model to compute shap values\n",
    "class LinWrapper:\n",
    "    def __init__(self, mymodel):\n",
    "        self.model = mymodel\n",
    "        self.device = wrapper.use_device\n",
    "        \n",
    "    def __call__(self, inputs):\n",
    "        # pad to full length\n",
    "        input_pad = torch.ones(len(inputs), 32, dtype=torch.long)*1996\n",
    "        input_pad[:, 1:inputs.shape[1]+1] = inputs\n",
    "        input_pad[:, 0] = 101\n",
    "        input_pad[:, -1] = 102\n",
    "        #print(input_pad)\n",
    "        input_embs = wrapper.compute_embeddings(input_pad.to(wrapper.use_device), 1)\n",
    "        logit_score = self.model.forward(input_embs.reshape(len(input_embs), -1))\n",
    "        return {\"logits\": logit_score}"
   ]
  },
  {
   "cell_type": "code",
   "execution_count": 85,
   "id": "f3b59a7a-57b2-439e-bb7b-e40b631efb2b",
   "metadata": {},
   "outputs": [],
   "source": [
    "lin_model_wrapper = LinWrapper(fc_model)"
   ]
  },
  {
   "cell_type": "code",
   "execution_count": 86,
   "id": "1f1c3aeb-387d-4ca2-921f-d2d61b537db5",
   "metadata": {},
   "outputs": [
    {
     "name": "stdout",
     "output_type": "stream",
     "text": [
      "0\n",
      "1\n",
      "2\n",
      "3\n",
      "4\n",
      "5\n",
      "6\n",
      "7\n",
      "8\n",
      "9\n",
      "10\n",
      "11\n",
      "12\n",
      "13\n",
      "14\n",
      "15\n",
      "16\n",
      "17\n",
      "18\n",
      "19\n"
     ]
    }
   ],
   "source": [
    "myShaplin = ShapleyValues(lin_model_wrapper, tokenizer, method=\"kernel\", num_samples = 500, impute_token=\"the\")\n",
    "use_cls=False\n",
    "shap_list_lin = []\n",
    "cls_tok = torch.tensor([101])\n",
    "input_tok = torch.tensor([3819])\n",
    "if use_cls:\n",
    "    x = torch.cat((cls_tok, input_tok), dim=0)\n",
    "else:\n",
    "    x = input_tok\n",
    "for i in range(20):\n",
    "    print(i)\n",
    "    #logit_results = []\n",
    "    shapley = myShaplin.get_signed_importance_for_tokens([i.item() for i in x.flatten()])\n",
    "    #print(shapley)\n",
    "    shap_list_lin.append(torch.tensor(shapley))\n",
    "    x = torch.cat((x, input_tok), dim=0)"
   ]
  },
  {
   "cell_type": "code",
   "execution_count": 205,
   "id": "05a3f07d-c699-4cde-be44-6f847039bce6",
   "metadata": {},
   "outputs": [],
   "source": [
    "shap_list_bert, shap_list_gpt = shap_lists_runs[0], shap_lists_runs[1]"
   ]
  },
  {
   "cell_type": "code",
   "execution_count": 229,
   "id": "350b5662-d79d-47dc-9573-47d3afa89087",
   "metadata": {},
   "outputs": [
    {
     "data": {
      "text/plain": [
       "tensor([ 0.4813,  0.4511,  0.4536,  0.4323,  0.4473,  0.3881, -0.0037],\n",
       "       dtype=torch.float64)"
      ]
     },
     "execution_count": 229,
     "metadata": {},
     "output_type": "execute_result"
    }
   ],
   "source": [
    "shap_list_bert[4]"
   ]
  },
  {
   "cell_type": "code",
   "execution_count": 207,
   "id": "a5070280-bf85-46fc-9e13-9d33175d692b",
   "metadata": {},
   "outputs": [
    {
     "name": "stdout",
     "output_type": "stream",
     "text": [
      "0\n",
      "1\n",
      "2\n",
      "3\n",
      "4\n",
      "5\n",
      "6\n",
      "7\n",
      "8\n",
      "9\n"
     ]
    }
   ],
   "source": [
    "my_matrix = torch.ones(20, 20)*float(\"nan\")\n",
    "my_matrix_lin = torch.zeros(20,20)*float(\"nan\")\n",
    "my_matrix_exp = torch.zeros(20, 20)*float(\"nan\")\n",
    "my_matrix_gpt = torch.zeros(20, 20)*float(\"nan\")\n",
    "\n",
    "for i in range(10):\n",
    "    print(i)\n",
    "    my_matrix[i, :len(shap_list_bert[i])-2] = shap_list_bert[i][1:-1]\n",
    "    my_matrix_lin[i, :len(shap_list_lin[i])] = shap_list_lin[i]\n",
    "    my_matrix_gpt[i, :len(shap_list_lin[i])] = shap_list_gpt[i]\n",
    "    my_matrix_exp[i, :i+1] = 1.5"
   ]
  },
  {
   "cell_type": "code",
   "execution_count": 208,
   "id": "ba0331ee-ac3a-4bf7-94ba-190c349b68bf",
   "metadata": {},
   "outputs": [],
   "source": [
    "torch.save((my_matrix, my_matrix_lin, my_matrix_gpt, my_matrix_exp), \"figures/mat_motivation.pt\")"
   ]
  },
  {
   "cell_type": "code",
   "execution_count": 209,
   "id": "cddac2b8-0aae-4fc3-9dbe-61b14aed0f08",
   "metadata": {},
   "outputs": [],
   "source": [
    "import torch\n",
    "my_matrix, my_matrix_lin, my_matrix_gpt, my_matrix_exp = torch.load(\"figures/mat_motivation.pt\")"
   ]
  },
  {
   "cell_type": "code",
   "execution_count": 210,
   "id": "d7a1524a-bf94-4ec2-8f00-1594afc76047",
   "metadata": {},
   "outputs": [],
   "source": [
    "import matplotlib.pyplot as plt"
   ]
  },
  {
   "cell_type": "code",
   "execution_count": 227,
   "id": "39af3c9e-dd75-4a48-b221-dc897dcc156b",
   "metadata": {},
   "outputs": [
    {
     "data": {
      "image/png": "[encoded data removed]",
      "text/plain": [
       "<Figure size 328x300 with 5 Axes>"
      ]
     },
     "metadata": {},
     "output_type": "display_data"
    }
   ],
   "source": [
    "plt.style.use('./figures/matplot.mplstyle')\n",
    "plt.rc('axes', titlesize=10) \n",
    "f, ax = plt.subplots(2, 2)\n",
    "ax = [ax[0][0], ax[0][1], ax[1][0], ax[1][1]]\n",
    "sub_sz = 10\n",
    "vmax = 7 #None #5\n",
    "vmin = 0.3 #None # 0.5\n",
    "ax[0].matshow(my_matrix_exp[:sub_sz, :sub_sz], cmap = \"jet\", vmax=vmax, vmin=vmin)\n",
    "ax[0].set_title(\"expected\")\n",
    "ax[1].matshow(my_matrix_lin[:sub_sz, :sub_sz], cmap = \"jet\", vmax=vmax, vmin=vmin)\n",
    "ax[1].set_title(\"fully connected\")\n",
    "ax[2].matshow(my_matrix[:sub_sz, :sub_sz], cmap = \"jet\", vmax=vmax, vmin=vmin)\n",
    "ax[2].set_title(\"BERT\")\n",
    "pcs = ax[3].matshow(my_matrix_gpt[:sub_sz, :sub_sz], cmap = \"jet\", vmax=vmax, vmin=vmin)\n",
    "ax[3].set_title(\"GPT-2\")\n",
    "for a in ax:\n",
    "    a.set_xlabel(\"token \\#\")\n",
    "    a.grid([])\n",
    "ax[2].set_xticks([])\n",
    "ax[3].set_xticks([])\n",
    "ax[0].set_ylabel(\"seq. length\")\n",
    "ax[2].set_ylabel(\"seq. length\")\n",
    "f.set_size_inches(3.28,3)\n",
    "plt.tight_layout()\n",
    "cbar = f.colorbar(pcs, ax=[ax[1], ax[3]], shrink=0.8, pad=0.15)\n",
    "cbar.ax.get_yaxis().labelpad = 10\n",
    "cbar.ax.get_yaxis().set_ticks([1.0,3.0, 5])\n",
    "cbar.set_label('SHAP values', rotation=270)\n",
    "f.savefig(\"figures/figure_motivation.pdf\")"
   ]
  }
 ],
 "metadata": {
  "kernelspec": {
   "display_name": "transformer",
   "language": "python",
   "name": "transformer"
  },
  "language_info": {
   "codemirror_mode": {
    "name": "ipython",
    "version": 3
   },
   "file_extension": ".py",
   "mimetype": "text/x-python",
   "name": "python",
   "nbconvert_exporter": "python",
   "pygments_lexer": "ipython3",
   "version": "3.10.11"
  }
 },
 "nbformat": 4,
 "nbformat_minor": 5
}

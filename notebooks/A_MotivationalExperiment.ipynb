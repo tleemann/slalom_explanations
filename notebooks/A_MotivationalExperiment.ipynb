{
 "cells": [
  {
   "cell_type": "markdown",
   "id": "7a232b18-9e7e-4536-a69d-1e1d95c5fc73",
   "metadata": {},
   "source": [
    "## Motivational Shapley Value Experiment (Appendix A)"
   ]
  },
  {
   "cell_type": "markdown",
   "id": "16468b5d-4449-4487-9be9-b72936c54e39",
   "metadata": {},
   "source": [
    "Run this notebook to recreate the figure in Appendix A.\n",
    "\n",
    "This is an example showing that the recovery property is not satisfied for SHAP explanations.\n",
    "\n",
    "To this end, we train transformers and a fully connected model on a simple toy dataset and then compute SHAP explanations for different sequences of the same word."
   ]
  },
  {
   "cell_type": "code",
   "execution_count": 1,
   "id": "7f6a2087-0426-439e-b62b-9633acf0db35",
   "metadata": {},
   "outputs": [],
   "source": [
    "%load_ext autoreload\n",
    "%autoreload 2"
   ]
  },
  {
   "cell_type": "code",
   "execution_count": 2,
   "id": "eef667fd-7ff3-45c9-9b91-c44a668e926e",
   "metadata": {},
   "outputs": [],
   "source": [
    "import os\n",
    "os.chdir(\"..\")"
   ]
  },
  {
   "cell_type": "markdown",
   "id": "9a96922e-acac-4049-a550-70a2d2553b07",
   "metadata": {},
   "source": [
    "Training commands: Train models with the following command:\n",
    "```\n",
    ".scripts/train_models_linear.sh\n",
    "```"
   ]
  },
  {
   "cell_type": "code",
   "execution_count": 3,
   "id": "8cc340d2-2850-4d12-9011-bb42ab2b04c5",
   "metadata": {},
   "outputs": [],
   "source": [
    "import torch\n",
    "from experiment_utils.transformer_models import DistilBert, GPT2, Bert\n",
    "from transformers import AutoTokenizer"
   ]
  },
  {
   "cell_type": "code",
   "execution_count": 8,
   "id": "c0dce511-f216-4e57-8684-7b4f49594bbc",
   "metadata": {},
   "outputs": [],
   "source": [
    "def compute_logits_for_single_token(model, tokenizer, n_max=10, use_cls=True, input_str=\"perfect\", use_device=\"cuda:2\"):\n",
    "    logit_results = []\n",
    "    cls_tok = torch.tensor([101])\n",
    "    input_tok = torch.tensor(tokenizer.convert_tokens_to_ids(input_str)).reshape(1)\n",
    "    sep_tok = torch.tensor([102])\n",
    "    with torch.no_grad():\n",
    "        x = input_tok\n",
    "        for i in range(n_max):\n",
    "            #print(x)\n",
    "            if use_cls:\n",
    "                input = torch.cat((cls_tok, x, sep_tok))\n",
    "            else:\n",
    "                input =x\n",
    "            logit_score = model(input.reshape(1,-1).to(use_device))[\"logits\"]\n",
    "            logit_results.append(logit_score.detach().cpu())\n",
    "            x = torch.cat((x, input_tok), dim=0)\n",
    "        \n",
    "    return torch.stack(logit_results)"
   ]
  },
  {
   "cell_type": "markdown",
   "id": "8d464284-fe51-4993-b7cb-8f39e141ca22",
   "metadata": {},
   "source": [
    "### 2 layers"
   ]
  },
  {
   "cell_type": "code",
   "execution_count": 10,
   "id": "7d34567a-1808-4a5d-a042-4aa171ef2197",
   "metadata": {},
   "outputs": [
    {
     "name": "stderr",
     "output_type": "stream",
     "text": [
      "/tmp/ipykernel_3513016/2423015765.py:7: FutureWarning: You are using `torch.load` with `weights_only=False` (the current default value), which uses the default pickle module implicitly. It is possible to construct malicious pickle data which will execute arbitrary code during unpickling (See https://github.com/pytorch/pytorch/blob/main/SECURITY.md#untrusted-models for more details). In a future release, the default value for `weights_only` will be flipped to `True`. This limits the functions that could be executed during unpickling. Arbitrary objects will no longer be allowed to be loaded via this mode unless they are explicitly allowlisted by the user via `torch.serialization.add_safe_globals`. We recommend you start setting `weights_only=True` for any use case where you don't have full control of the loaded file. Please open an issue on GitHub for any issues related to this experimental feature.\n",
      "  s_dict = torch.load(f\"{prefix_path}/{run}\")\n",
      "Some weights of BertForSequenceClassification were not initialized from the model checkpoint at bert-base-uncased and are newly initialized: ['classifier.bias', 'classifier.weight']\n",
      "You should probably TRAIN this model on a down-stream task to be able to use it for predictions and inference.\n",
      "Some weights of GPT2ForSequenceClassification were not initialized from the model checkpoint at gpt2 and are newly initialized: ['score.weight']\n",
      "You should probably TRAIN this model on a down-stream task to be able to use it for predictions and inference.\n"
     ]
    }
   ],
   "source": [
    "prefix_path= \"/mnt/ssd3/tobias/models_lin_bin_rerun\" # Path were the train script stored the output\n",
    "run_ids = [\"sparsebow_bert_2_r0.pt\", \"sparsebow_gpt2_2_r0.pt\"] ## insert run_ids here.\n",
    "use_device = \"cuda:1\" # set to an available device\n",
    "\n",
    "model_list, tok_list = [], []\n",
    "for run in run_ids:\n",
    "    s_dict = torch.load(f\"{prefix_path}/{run}\")\n",
    "    # extract num_layers, num_heads\n",
    "    parts = run.split(\"_\")\n",
    "    n_heads = 12\n",
    "    n_layers = int(parts[-2])\n",
    "    if \"gpt2\" in run:\n",
    "        model_obj = GPT2(n_layer=n_layers, n_head=n_heads)\n",
    "        tokenizer = AutoTokenizer.from_pretrained('distilgpt2', use_fast=True)\n",
    "    else:\n",
    "        if \"distilbert\" in run:\n",
    "            model_obj = DistilBert(n_layers=n_layers, n_heads=n_heads)\n",
    "        else:\n",
    "            model_obj = Bert(n_layers=n_layers, n_heads=n_heads)\n",
    "        tokenizer = AutoTokenizer.from_pretrained('bert-base-uncased', use_fast=True)\n",
    "    model_obj.model.load_state_dict(s_dict)\n",
    "    for p in model_obj.model.parameters():\n",
    "        p.requires_grad_(False)\n",
    "        \n",
    "    model_trained = model_obj.model.to(use_device).eval()\n",
    "    model_list.append(model_trained)\n",
    "    tok_list.append(tokenizer)"
   ]
  },
  {
   "cell_type": "markdown",
   "id": "023a7228-d04e-4e4c-b85a-c3a6609366fc",
   "metadata": {},
   "source": [
    "We now iteratively pass sequences containing the word perfect one or several times to the model, e.g., \\[\"perfect\"\\], \\[\"perfect\", \"perfect\"\\]"
   ]
  },
  {
   "cell_type": "code",
   "execution_count": 12,
   "id": "707466fd-8ab0-4879-823c-db8baebaba9a",
   "metadata": {},
   "outputs": [
    {
     "name": "stdout",
     "output_type": "stream",
     "text": [
      "tensor([0.5247], device='cuda:1')\n",
      "tensor([0.5176], device='cuda:1')\n"
     ]
    },
    {
     "data": {
      "text/plain": [
       "<matplotlib.legend.Legend at 0x7f5ed046c4f0>"
      ]
     },
     "execution_count": 12,
     "metadata": {},
     "output_type": "execute_result"
    },
    {
     "data": {
      "image/png": "[encoded data removed]",
      "text/plain": [
       "<Figure size 640x480 with 1 Axes>"
      ]
     },
     "metadata": {},
     "output_type": "display_data"
    }
   ],
   "source": [
    "import matplotlib.pyplot as plt\n",
    "input_str=\"perfect\",\n",
    "for r, run in enumerate(run_ids):\n",
    "    if \"bert\" in run:\n",
    "        cls_tok = torch.tensor([101, 102])\n",
    "        base_logit = model_obj.model(cls_tok.reshape(1,-1).to(use_device))[\"logits\"]\n",
    "        base_logit = base_logit[:,1]-base_logit[:,0]\n",
    "        print(base_logit)\n",
    "        w_cls = compute_logits_for_single_token(model_list[r], tok_list[r], n_max=30, use_cls=True, use_device=use_device, input_str=input_str)\n",
    "        w_cls = w_cls[:,:,1]-w_cls[:,:,0]\n",
    "        plt.plot(w_cls, \"-x\")\n",
    "    else: # GPT\n",
    "        neutral_tok = torch.tensor(tok_list[r].convert_tokens_to_ids(\"the\"))\n",
    "        #print(neutral_tok)\n",
    "        base_logit = model_obj.model(neutral_tok.reshape(1,-1).to(use_device))[\"logits\"]\n",
    "        base_logit = base_logit[:,1]-base_logit[:,0]\n",
    "        print(base_logit)\n",
    "        wo_cls = compute_logits_for_single_token(model_list[r], tok_list[r], n_max=30, use_cls=False,  use_device=use_device, input_str=input_str)\n",
    "        wo_cls = wo_cls[:,:,1]-wo_cls[:,:,0]\n",
    "        lin = torch.arange(30)*(wo_cls[0]-base_logit.cpu())+base_logit.cpu()\n",
    "plt.plot(wo_cls, \"-x\", label=\"bert\")\n",
    "plt.plot(w_cls, \"-x\", label=\"gpt\")\n",
    "#plt.plot(torch.arange(30)-1,lin, \"--x\", c=\"k\", label=\"linear\")\n",
    "plt.legend()"
   ]
  },
  {
   "cell_type": "markdown",
   "id": "5e098ec0-301b-49d3-8236-eb7c3ea17e64",
   "metadata": {},
   "source": [
    "The transformer models fail to capture the linear relationship and the output is almost constant and independent of sequence length."
   ]
  },
  {
   "cell_type": "markdown",
   "id": "70d38a1e-a270-4dea-aaa2-db6caf13b7d9",
   "metadata": {},
   "source": [
    "## Train a fixed context fully connected model on the sparse BOW"
   ]
  },
  {
   "cell_type": "markdown",
   "id": "c9b578c6-1fc1-4209-8fad-2d6c84860b10",
   "metadata": {},
   "source": [
    "For comparison, we train a fully connected model."
   ]
  },
  {
   "cell_type": "code",
   "execution_count": 13,
   "id": "3fb1bcf3-38e9-46c4-9df3-0cb69f36b5cf",
   "metadata": {},
   "outputs": [],
   "source": [
    "## Load the same dataset as in the main code an train model.\n",
    "from experiment_utils.bow_dataset import SparseBoWDataset"
   ]
  },
  {
   "cell_type": "code",
   "execution_count": 14,
   "id": "291c8d44-b7b7-435c-8454-1126af86bdcb",
   "metadata": {},
   "outputs": [],
   "source": [
    "words_dict = {\"the\": (0.2, 0.0), \"we\": (0.2, 0.0), \"movie\": (0.2, 0.0), \"watch\": (0.2, 0.0),\n",
    "      \"best\": (0.06, 1.0), \"perfect\": (0.06, 1.5), \"good\": (0.08, 0.7),\n",
    "      \"worst\": (0.06, -1.5), \"poor\": (0.06, -1.0),\"ok\": (0.08, -0.7)}"
   ]
  },
  {
   "cell_type": "code",
   "execution_count": 15,
   "id": "5d9e232d-e201-4cfc-b2b5-0df2d596ae4b",
   "metadata": {},
   "outputs": [],
   "source": [
    "import torch.nn as nn\n",
    "class TwoLayerFixedContext(nn.Module):\n",
    "    def __init__(self, input_dim: int, hidden_dim: int):\n",
    "        super().__init__()\n",
    "        self.layer1 = nn.Linear(input_dim, hidden_dim)\n",
    "        self.layer2 = nn.Linear(hidden_dim, 2)\n",
    "\n",
    "    def forward(self, x):\n",
    "        x = self.layer1(x)\n",
    "        x = torch.relu(x)\n",
    "        return self.layer2(x)"
   ]
  },
  {
   "cell_type": "code",
   "execution_count": 55,
   "id": "c86ac6ad-6721-4ec5-b1d8-8cb99a15ff14",
   "metadata": {},
   "outputs": [
    {
     "name": "stderr",
     "output_type": "stream",
     "text": [
      "Some weights of DistilBertForSequenceClassification were not initialized from the model checkpoint at distilbert/distilbert-base-uncased and are newly initialized: ['classifier.bias', 'classifier.weight', 'pre_classifier.bias', 'pre_classifier.weight']\n",
      "You should probably TRAIN this model on a down-stream task to be able to use it for predictions and inference.\n"
     ]
    }
   ],
   "source": [
    "## Train the linear model using BERT embeddings\n",
    "## Create wrapper\n",
    "from torch.utils.data import DataLoader\n",
    "from transformers import AutoModelForSequenceClassification\n",
    "\n",
    "# We use distilbert embeddings as inputs and provide this function to get the pretrained embeddings for input seqs\n",
    "model_obj = AutoModelForSequenceClassification.from_pretrained(\"distilbert/distilbert-base-uncased\").to(use_device)\n",
    "import typing as tp\n",
    "def compute_embeddings(input_ids: torch.Tensor, input_positions: tp.Union[torch.Tensor, int]):\n",
    "    \"\"\" Compute distilbert embeddings (copied from the hugginface distilbert code) \"\"\"\n",
    "    if type(input_positions) == int:\n",
    "        input_positions = torch.ones(input_ids.shape, dtype=torch.long)*input_positions\n",
    "    elif input_positions.numel() == 1:\n",
    "        input_positions = torch.ones(input_ids.shape, dtype=torch.long)*input_positions\n",
    "    input_positions = input_positions.to(use_device)\n",
    "    embed = model_obj.distilbert.embeddings\n",
    "    position_embeddings = embed.position_embeddings(input_positions)\n",
    "    inputs_embeds = embed.word_embeddings(input_ids) + position_embeddings\n",
    "    inputs_embeds = embed.LayerNorm(inputs_embeds)\n",
    "    return inputs_embeds\n",
    "\n",
    "\n",
    "distil_tok = AutoTokenizer.from_pretrained(\"distilbert/distilbert-base-uncased\", use_fast=True)\n",
    "\n",
    "myds = SparseBoWDataset(distil_tok, all_words_dict =  words_dict)\n",
    "mydl = DataLoader(myds, batch_size=32)\n",
    "\n"
   ]
  },
  {
   "cell_type": "code",
   "execution_count": 56,
   "id": "edc9c5e1-6675-401f-94c8-69e21022d4ce",
   "metadata": {},
   "outputs": [],
   "source": [
    "from torch.optim import Adam\n",
    "\n",
    "def fit_sgd(my_dl, model, num_eps=10, lr=5e-4, batch_size=32):\n",
    "    model = model.to(use_device)\n",
    "    my_optim = Adam(model.parameters(), lr = lr)\n",
    "    losses = []\n",
    "    iters = 0\n",
    "    loss_fn = nn.CrossEntropyLoss()\n",
    "    for ep in range(num_eps):\n",
    "        losses = []\n",
    "        for batch in my_dl:\n",
    "            my_optim.zero_grad()\n",
    "            input_embs = compute_embeddings(batch[\"input_ids\"].to(use_device), 1)\n",
    "            #print(input_embs.shape)\n",
    "            output = model.forward(input_embs.reshape(len(input_embs), -1))\n",
    "            loss = loss_fn(output, batch[\"label\"].to(use_device))\n",
    "            loss.backward()\n",
    "            my_optim.step()\n",
    "            losses.append(loss.item())\n",
    "            iters += 1\n",
    "        print(torch.tensor([losses]).mean())\n",
    "    return model"
   ]
  },
  {
   "cell_type": "code",
   "execution_count": 57,
   "id": "f51d0504-c7d9-49e9-9979-7cf69b0a4e39",
   "metadata": {},
   "outputs": [],
   "source": [
    "fc_model = TwoLayerFixedContext(32*768, 400)"
   ]
  },
  {
   "cell_type": "code",
   "execution_count": 58,
   "id": "7781f743-d49d-4a1b-91c7-c07146d6b1e2",
   "metadata": {},
   "outputs": [
    {
     "name": "stdout",
     "output_type": "stream",
     "text": [
      "tensor(0.6028)\n",
      "tensor(0.4159)\n",
      "tensor(0.3921)\n",
      "tensor(0.3755)\n",
      "tensor(0.3787)\n",
      "tensor(0.3712)\n",
      "tensor(0.3704)\n",
      "tensor(0.3697)\n",
      "tensor(0.3611)\n",
      "tensor(0.3515)\n",
      "tensor(0.3635)\n",
      "tensor(0.3448)\n",
      "tensor(0.3690)\n",
      "tensor(0.3671)\n",
      "tensor(0.3587)\n",
      "tensor(0.3433)\n",
      "tensor(0.3523)\n",
      "tensor(0.3581)\n",
      "tensor(0.3528)\n",
      "tensor(0.3671)\n"
     ]
    },
    {
     "data": {
      "text/plain": [
       "TwoLayerFixedContext(\n",
       "  (layer1): Linear(in_features=24576, out_features=400, bias=True)\n",
       "  (layer2): Linear(in_features=400, out_features=2, bias=True)\n",
       ")"
      ]
     },
     "execution_count": 58,
     "metadata": {},
     "output_type": "execute_result"
    }
   ],
   "source": [
    "fit_sgd(mydl, fc_model, num_eps=20)"
   ]
  },
  {
   "cell_type": "code",
   "execution_count": 59,
   "id": "4aa132e4-aa6f-4a04-998c-042a3ab64d57",
   "metadata": {},
   "outputs": [],
   "source": [
    "def compute_logits_for_single_token_fc(model, n_max=10, use_cls=True):\n",
    "    \"\"\" Compute the logits for the sequences for the FC model. \"\"\"\n",
    "    logit_results = []\n",
    "    cls_tok = torch.tensor([101])\n",
    "    input_tok = torch.tensor([3819])\n",
    "    pad_tok = torch.tensor([1996])\n",
    "    inputs_pad = torch.ones(n_max+1, 32, dtype=torch.long)*pad_tok\n",
    "    if use_cls:\n",
    "        x = cls_tok.reshape(1)\n",
    "    else:\n",
    "        x = torch.empty(0)\n",
    "    \n",
    "    for i in range(n_max+1):\n",
    "        inputs_pad[i, :len(x)] = x\n",
    "        x = torch.cat((x, input_tok), dim=0)\n",
    "    inputs_pad[:,-1] = 102\n",
    "    #print(inputs_pad)\n",
    "    with torch.no_grad():\n",
    "        input_embs = compute_embeddings(inputs_pad.to(use_device), 1)\n",
    "        logit_score = model.forward(input_embs.reshape(len(input_embs), -1))\n",
    "        score = logit_score[:,1]-logit_score[:,0]\n",
    "    return score"
   ]
  },
  {
   "cell_type": "code",
   "execution_count": 60,
   "id": "8bf4b6c6-7887-46fd-810a-afe4a2094c84",
   "metadata": {},
   "outputs": [],
   "source": [
    "res = compute_logits_for_single_token_fc(fc_model)"
   ]
  },
  {
   "cell_type": "code",
   "execution_count": 61,
   "id": "a935ac55-dd0d-4a0e-87e6-4f14246e8222",
   "metadata": {},
   "outputs": [
    {
     "data": {
      "text/plain": [
       "tensor([0.6704, 1.8781, 3.1048, 3.9276, 4.8128, 5.6536, 6.4772, 7.2428, 7.9644,\n",
       "        8.7037, 9.4114], device='cuda:1')"
      ]
     },
     "execution_count": 61,
     "metadata": {},
     "output_type": "execute_result"
    }
   ],
   "source": [
    "res"
   ]
  },
  {
   "cell_type": "markdown",
   "id": "7fb40240-7f1a-4dca-9584-803a7d208844",
   "metadata": {},
   "source": [
    "**Plot sequence lengths over logits**"
   ]
  },
  {
   "cell_type": "code",
   "execution_count": 64,
   "id": "453379ce-aea4-483b-a159-a7199a4096cc",
   "metadata": {},
   "outputs": [
    {
     "data": {
      "text/plain": [
       "Text(0, 0.5, 'logit score')"
      ]
     },
     "execution_count": 64,
     "metadata": {},
     "output_type": "execute_result"
    },
    {
     "data": {
      "image/png": "[encoded data removed]",
      "text/plain": [
       "<Figure size 640x480 with 1 Axes>"
      ]
     },
     "metadata": {},
     "output_type": "display_data"
    }
   ],
   "source": [
    "import matplotlib.pyplot as plt\n",
    "res = res.cpu()\n",
    "plt.plot(res)\n",
    "plt.plot(torch.arange(len(res))*(res[1]-res[0])+res[0], \"--k\")\n",
    "plt.xlabel(\"sequence length\")\n",
    "plt.ylabel(\"logit score\")"
   ]
  },
  {
   "cell_type": "markdown",
   "id": "55809d8c-d091-4d70-a970-9662972b8d91",
   "metadata": {},
   "source": [
    "## Calculate shapley values for this case."
   ]
  },
  {
   "cell_type": "code",
   "execution_count": 66,
   "id": "54b08adf-5e6a-48f5-b46c-776c57f12881",
   "metadata": {},
   "outputs": [],
   "source": [
    "from experiment_utils.attribution_methods import ShapleyValues"
   ]
  },
  {
   "cell_type": "code",
   "execution_count": 69,
   "id": "8129160d-30a1-4fbe-9361-b25f7adc8338",
   "metadata": {},
   "outputs": [
    {
     "name": "stdout",
     "output_type": "stream",
     "text": [
      "0\n",
      "1\n",
      "2\n",
      "3\n",
      "4\n",
      "5\n",
      "6\n",
      "7\n",
      "8\n",
      "9\n",
      "10\n",
      "11\n",
      "12\n",
      "13\n",
      "14\n",
      "15\n",
      "16\n",
      "17\n",
      "18\n",
      "19\n",
      "0\n",
      "1\n",
      "2\n",
      "3\n",
      "4\n",
      "5\n",
      "6\n",
      "7\n",
      "8\n",
      "9\n",
      "10\n",
      "11\n",
      "12\n",
      "13\n",
      "14\n",
      "15\n",
      "16\n",
      "17\n",
      "18\n",
      "19\n"
     ]
    }
   ],
   "source": [
    "shap_lists_runs = []\n",
    "for k, r in enumerate(run_ids):\n",
    "    myShap = ShapleyValues(model_list[k], tok_list[k], method=\"kernel\", num_samples = 500, impute_token=\"the\", device=use_device)\n",
    "    use_cls = (\"bert\" in r)\n",
    "    relevant_token = \"perfect\"\n",
    "    shap_list = []\n",
    "    cls_tok = torch.tensor([101])\n",
    "    sep_tok = torch.tensor([102])\n",
    "    input_tok = torch.tensor(tok_list[k].convert_tokens_to_ids(relevant_token)).reshape(1)\n",
    "    if use_cls:\n",
    "        x = torch.cat((cls_tok, input_tok), dim=0)\n",
    "    else:\n",
    "        x = input_tok\n",
    "        \n",
    "    for i in range(20):\n",
    "        print(i)\n",
    "        if use_cls:\n",
    "            x_sep =  torch.cat((x, sep_tok), dim=0)\n",
    "        else:\n",
    "            x_sep = x\n",
    "        #print(x_sep)\n",
    "        shapley = myShap.get_signed_importance_for_tokens([i.item() for i in x_sep.flatten()])\n",
    "        #print(shapley)\n",
    "        shap_list.append(torch.tensor(shapley))\n",
    "        x = torch.cat((x, input_tok), dim=0)\n",
    "    shap_lists_runs.append(shap_list)"
   ]
  },
  {
   "cell_type": "markdown",
   "id": "707fa225-6acc-4356-b16b-a9c92fb066e3",
   "metadata": {},
   "source": [
    "## Compute SHAP values for the linear model"
   ]
  },
  {
   "cell_type": "code",
   "execution_count": 75,
   "id": "a1e55ea1-cdcf-434f-87a7-47f77bcdd265",
   "metadata": {},
   "outputs": [],
   "source": [
    "## Wrapper for linear model to compute shap values\n",
    "class LinWrapper:\n",
    "    def __init__(self, mymodel):\n",
    "        self.model = mymodel\n",
    "        self.device = use_device\n",
    "        \n",
    "    def __call__(self, inputs):\n",
    "        # pad to full length\n",
    "        input_pad = torch.ones(len(inputs), 32, dtype=torch.long)*1996\n",
    "        input_pad[:, 1:inputs.shape[1]+1] = inputs\n",
    "        input_pad[:, 0] = 101\n",
    "        input_pad[:, -1] = 102\n",
    "        #print(input_pad)\n",
    "        input_embs = compute_embeddings(input_pad.to(self.use_device), 1)\n",
    "        logit_score = self.model.forward(input_embs.reshape(len(input_embs), -1))\n",
    "        return {\"logits\": logit_score}"
   ]
  },
  {
   "cell_type": "code",
   "execution_count": 76,
   "id": "f3b59a7a-57b2-439e-bb7b-e40b631efb2b",
   "metadata": {},
   "outputs": [],
   "source": [
    "lin_model_wrapper = LinWrapper(fc_model)"
   ]
  },
  {
   "cell_type": "code",
   "execution_count": 77,
   "id": "1f1c3aeb-387d-4ca2-921f-d2d61b537db5",
   "metadata": {},
   "outputs": [
    {
     "name": "stdout",
     "output_type": "stream",
     "text": [
      "0\n",
      "Provided model function fails when applied to the provided data set.\n"
     ]
    },
    {
     "ename": "AttributeError",
     "evalue": "'LinWrapper' object has no attribute 'use_device'",
     "output_type": "error",
     "traceback": [
      "\u001b[0;31m---------------------------------------------------------------------------\u001b[0m",
      "\u001b[0;31mAttributeError\u001b[0m                            Traceback (most recent call last)",
      "Cell \u001b[0;32mIn[77], line 13\u001b[0m\n\u001b[1;32m     11\u001b[0m \u001b[38;5;28mprint\u001b[39m(i)\n\u001b[1;32m     12\u001b[0m \u001b[38;5;66;03m#logit_results = []\u001b[39;00m\n\u001b[0;32m---> 13\u001b[0m shapley \u001b[38;5;241m=\u001b[39m \u001b[43mmyShaplin\u001b[49m\u001b[38;5;241;43m.\u001b[39;49m\u001b[43mget_signed_importance_for_tokens\u001b[49m\u001b[43m(\u001b[49m\u001b[43m[\u001b[49m\u001b[43mi\u001b[49m\u001b[38;5;241;43m.\u001b[39;49m\u001b[43mitem\u001b[49m\u001b[43m(\u001b[49m\u001b[43m)\u001b[49m\u001b[43m \u001b[49m\u001b[38;5;28;43;01mfor\u001b[39;49;00m\u001b[43m \u001b[49m\u001b[43mi\u001b[49m\u001b[43m \u001b[49m\u001b[38;5;129;43;01min\u001b[39;49;00m\u001b[43m \u001b[49m\u001b[43mx\u001b[49m\u001b[38;5;241;43m.\u001b[39;49m\u001b[43mflatten\u001b[49m\u001b[43m(\u001b[49m\u001b[43m)\u001b[49m\u001b[43m]\u001b[49m\u001b[43m)\u001b[49m\n\u001b[1;32m     14\u001b[0m \u001b[38;5;66;03m#print(shapley)\u001b[39;00m\n\u001b[1;32m     15\u001b[0m shap_list_lin\u001b[38;5;241m.\u001b[39mappend(torch\u001b[38;5;241m.\u001b[39mtensor(shapley))\n",
      "File \u001b[0;32m~/slalom_explanations/experiment_utils/attribution_methods.py:256\u001b[0m, in \u001b[0;36mShapleyValues.get_signed_importance_for_tokens\u001b[0;34m(self, input_ids)\u001b[0m\n\u001b[1;32m    254\u001b[0m \u001b[38;5;250m\u001b[39m\u001b[38;5;124;03m\"\"\" Compute the importances for a list of input tokens \"\"\"\u001b[39;00m\n\u001b[1;32m    255\u001b[0m \u001b[38;5;28;01mif\u001b[39;00m \u001b[38;5;28mself\u001b[39m\u001b[38;5;241m.\u001b[39mmethod \u001b[38;5;241m==\u001b[39m \u001b[38;5;124m\"\u001b[39m\u001b[38;5;124mkernel\u001b[39m\u001b[38;5;124m\"\u001b[39m:\n\u001b[0;32m--> 256\u001b[0m     \u001b[38;5;28;01mreturn\u001b[39;00m \u001b[38;5;28;43mself\u001b[39;49m\u001b[38;5;241;43m.\u001b[39;49m\u001b[43m_get_kernel_shap_values\u001b[49m\u001b[43m(\u001b[49m\u001b[43minput_ids\u001b[49m\u001b[43m)\u001b[49m\n\u001b[1;32m    257\u001b[0m \u001b[38;5;28;01melse\u001b[39;00m:\n\u001b[1;32m    258\u001b[0m     \u001b[38;5;28;01mreturn\u001b[39;00m \u001b[38;5;28mself\u001b[39m\u001b[38;5;241m.\u001b[39m_get_permutation_or_partition_shap_values(input_ids)\n",
      "File \u001b[0;32m~/slalom_explanations/experiment_utils/attribution_methods.py:279\u001b[0m, in \u001b[0;36mShapleyValues._get_kernel_shap_values\u001b[0;34m(self, input_sample)\u001b[0m\n\u001b[1;32m    276\u001b[0m         val \u001b[38;5;241m=\u001b[39m np\u001b[38;5;241m.\u001b[39mappend(val, kernel_predictor(torch\u001b[38;5;241m.\u001b[39mfrom_numpy(i)\u001b[38;5;241m.\u001b[39mlong()\u001b[38;5;241m.\u001b[39mreshape(\u001b[38;5;241m1\u001b[39m,\u001b[38;5;241m-\u001b[39m\u001b[38;5;241m1\u001b[39m)))\n\u001b[1;32m    277\u001b[0m     \u001b[38;5;28;01mreturn\u001b[39;00m val\n\u001b[0;32m--> 279\u001b[0m explainer_bert_kernel \u001b[38;5;241m=\u001b[39m \u001b[43mshap\u001b[49m\u001b[38;5;241;43m.\u001b[39;49m\u001b[43mKernelExplainer\u001b[49m\u001b[43m(\u001b[49m\u001b[43mkernel_batch\u001b[49m\u001b[43m,\u001b[49m\u001b[43m \u001b[49m\u001b[43mdata\u001b[49m\u001b[38;5;241;43m=\u001b[39;49m\u001b[38;5;28;43mself\u001b[39;49m\u001b[38;5;241;43m.\u001b[39;49m\u001b[43mbg\u001b[49m\u001b[43m[\u001b[49m\u001b[43m:\u001b[49m\u001b[43m,\u001b[49m\u001b[43m:\u001b[49m\u001b[38;5;28;43mlen\u001b[39;49m\u001b[43m(\u001b[49m\u001b[43minputs\u001b[49m\u001b[43m)\u001b[49m\u001b[43m]\u001b[49m\u001b[43m)\u001b[49m\n\u001b[1;32m    280\u001b[0m shap_values \u001b[38;5;241m=\u001b[39m explainer_bert_kernel\u001b[38;5;241m.\u001b[39mshap_values(np\u001b[38;5;241m.\u001b[39marray(inputs), nsamples\u001b[38;5;241m=\u001b[39m\u001b[38;5;28mself\u001b[39m\u001b[38;5;241m.\u001b[39mnum_samples)\n\u001b[1;32m    281\u001b[0m \u001b[38;5;28;01mreturn\u001b[39;00m shap_values\n",
      "File \u001b[0;32m/mnt/ssd3/tobias/conda/envs/transformer/lib/python3.10/site-packages/shap/explainers/_kernel.py:96\u001b[0m, in \u001b[0;36mKernel.__init__\u001b[0;34m(self, model, data, feature_names, link, **kwargs)\u001b[0m\n\u001b[1;32m     94\u001b[0m \u001b[38;5;28mself\u001b[39m\u001b[38;5;241m.\u001b[39mkeep_index_ordered \u001b[38;5;241m=\u001b[39m kwargs\u001b[38;5;241m.\u001b[39mget(\u001b[38;5;124m\"\u001b[39m\u001b[38;5;124mkeep_index_ordered\u001b[39m\u001b[38;5;124m\"\u001b[39m, \u001b[38;5;28;01mFalse\u001b[39;00m)\n\u001b[1;32m     95\u001b[0m \u001b[38;5;28mself\u001b[39m\u001b[38;5;241m.\u001b[39mdata \u001b[38;5;241m=\u001b[39m convert_to_data(data, keep_index\u001b[38;5;241m=\u001b[39m\u001b[38;5;28mself\u001b[39m\u001b[38;5;241m.\u001b[39mkeep_index)\n\u001b[0;32m---> 96\u001b[0m model_null \u001b[38;5;241m=\u001b[39m \u001b[43mmatch_model_to_data\u001b[49m\u001b[43m(\u001b[49m\u001b[38;5;28;43mself\u001b[39;49m\u001b[38;5;241;43m.\u001b[39;49m\u001b[43mmodel\u001b[49m\u001b[43m,\u001b[49m\u001b[43m \u001b[49m\u001b[38;5;28;43mself\u001b[39;49m\u001b[38;5;241;43m.\u001b[39;49m\u001b[43mdata\u001b[49m\u001b[43m)\u001b[49m\n\u001b[1;32m     98\u001b[0m \u001b[38;5;66;03m# enforce our current input type limitations\u001b[39;00m\n\u001b[1;32m     99\u001b[0m \u001b[38;5;28;01massert\u001b[39;00m \u001b[38;5;28misinstance\u001b[39m(\u001b[38;5;28mself\u001b[39m\u001b[38;5;241m.\u001b[39mdata, DenseData) \u001b[38;5;129;01mor\u001b[39;00m \u001b[38;5;28misinstance\u001b[39m(\u001b[38;5;28mself\u001b[39m\u001b[38;5;241m.\u001b[39mdata, SparseData), \\\n\u001b[1;32m    100\u001b[0m        \u001b[38;5;124m\"\u001b[39m\u001b[38;5;124mShap explainer only supports the DenseData and SparseData input currently.\u001b[39m\u001b[38;5;124m\"\u001b[39m\n",
      "File \u001b[0;32m/mnt/ssd3/tobias/conda/envs/transformer/lib/python3.10/site-packages/shap/utils/_legacy.py:123\u001b[0m, in \u001b[0;36mmatch_model_to_data\u001b[0;34m(model, data)\u001b[0m\n\u001b[1;32m    121\u001b[0m         out_val \u001b[38;5;241m=\u001b[39m model\u001b[38;5;241m.\u001b[39mf(data\u001b[38;5;241m.\u001b[39mconvert_to_df())\n\u001b[1;32m    122\u001b[0m     \u001b[38;5;28;01melse\u001b[39;00m:\n\u001b[0;32m--> 123\u001b[0m         out_val \u001b[38;5;241m=\u001b[39m \u001b[43mmodel\u001b[49m\u001b[38;5;241;43m.\u001b[39;49m\u001b[43mf\u001b[49m\u001b[43m(\u001b[49m\u001b[43mdata\u001b[49m\u001b[38;5;241;43m.\u001b[39;49m\u001b[43mdata\u001b[49m\u001b[43m)\u001b[49m\n\u001b[1;32m    124\u001b[0m \u001b[38;5;28;01mexcept\u001b[39;00m \u001b[38;5;167;01mException\u001b[39;00m:\n\u001b[1;32m    125\u001b[0m     \u001b[38;5;28mprint\u001b[39m(\u001b[38;5;124m\"\u001b[39m\u001b[38;5;124mProvided model function fails when applied to the provided data set.\u001b[39m\u001b[38;5;124m\"\u001b[39m)\n",
      "File \u001b[0;32m~/slalom_explanations/experiment_utils/attribution_methods.py:276\u001b[0m, in \u001b[0;36mShapleyValues._get_kernel_shap_values.<locals>.kernel_batch\u001b[0;34m(x)\u001b[0m\n\u001b[1;32m    274\u001b[0m val \u001b[38;5;241m=\u001b[39m np\u001b[38;5;241m.\u001b[39marray([])\n\u001b[1;32m    275\u001b[0m \u001b[38;5;28;01mfor\u001b[39;00m i \u001b[38;5;129;01min\u001b[39;00m x:\n\u001b[0;32m--> 276\u001b[0m     val \u001b[38;5;241m=\u001b[39m np\u001b[38;5;241m.\u001b[39mappend(val, \u001b[43mkernel_predictor\u001b[49m\u001b[43m(\u001b[49m\u001b[43mtorch\u001b[49m\u001b[38;5;241;43m.\u001b[39;49m\u001b[43mfrom_numpy\u001b[49m\u001b[43m(\u001b[49m\u001b[43mi\u001b[49m\u001b[43m)\u001b[49m\u001b[38;5;241;43m.\u001b[39;49m\u001b[43mlong\u001b[49m\u001b[43m(\u001b[49m\u001b[43m)\u001b[49m\u001b[38;5;241;43m.\u001b[39;49m\u001b[43mreshape\u001b[49m\u001b[43m(\u001b[49m\u001b[38;5;241;43m1\u001b[39;49m\u001b[43m,\u001b[49m\u001b[38;5;241;43m-\u001b[39;49m\u001b[38;5;241;43m1\u001b[39;49m\u001b[43m)\u001b[49m\u001b[43m)\u001b[49m)\n\u001b[1;32m    277\u001b[0m \u001b[38;5;28;01mreturn\u001b[39;00m val\n",
      "File \u001b[0;32m~/slalom_explanations/experiment_utils/attribution_methods.py:268\u001b[0m, in \u001b[0;36mShapleyValues._get_kernel_shap_values.<locals>.kernel_predictor\u001b[0;34m(x)\u001b[0m\n\u001b[1;32m    266\u001b[0m \u001b[38;5;28;01mdef\u001b[39;00m \u001b[38;5;21mkernel_predictor\u001b[39m(x):\n\u001b[1;32m    267\u001b[0m     \u001b[38;5;66;03m#print(x)\u001b[39;00m\n\u001b[0;32m--> 268\u001b[0m     outputs \u001b[38;5;241m=\u001b[39m \u001b[38;5;28;43mself\u001b[39;49m\u001b[38;5;241;43m.\u001b[39;49m\u001b[43mmodel\u001b[49m\u001b[43m(\u001b[49m\u001b[43mx\u001b[49m\u001b[38;5;241;43m.\u001b[39;49m\u001b[43mto\u001b[49m\u001b[43m(\u001b[49m\u001b[38;5;28;43mself\u001b[39;49m\u001b[38;5;241;43m.\u001b[39;49m\u001b[43mdevice\u001b[49m\u001b[43m)\u001b[49m\u001b[43m)\u001b[49m[\u001b[38;5;124m\"\u001b[39m\u001b[38;5;124mlogits\u001b[39m\u001b[38;5;124m\"\u001b[39m]\n\u001b[1;32m    269\u001b[0m     probas \u001b[38;5;241m=\u001b[39m outputs\u001b[38;5;241m.\u001b[39mdetach()\u001b[38;5;241m.\u001b[39mcpu()\u001b[38;5;241m.\u001b[39mnumpy()\n\u001b[1;32m    270\u001b[0m     val \u001b[38;5;241m=\u001b[39m probas[:,\u001b[38;5;241m1\u001b[39m]\u001b[38;5;241m-\u001b[39mprobas[:,\u001b[38;5;241m0\u001b[39m]\n",
      "Cell \u001b[0;32mIn[75], line 14\u001b[0m, in \u001b[0;36mLinWrapper.__call__\u001b[0;34m(self, inputs)\u001b[0m\n\u001b[1;32m     12\u001b[0m input_pad[:, \u001b[38;5;241m-\u001b[39m\u001b[38;5;241m1\u001b[39m] \u001b[38;5;241m=\u001b[39m \u001b[38;5;241m102\u001b[39m\n\u001b[1;32m     13\u001b[0m \u001b[38;5;66;03m#print(input_pad)\u001b[39;00m\n\u001b[0;32m---> 14\u001b[0m input_embs \u001b[38;5;241m=\u001b[39m compute_embeddings(input_pad\u001b[38;5;241m.\u001b[39mto(\u001b[38;5;28;43mself\u001b[39;49m\u001b[38;5;241;43m.\u001b[39;49m\u001b[43muse_device\u001b[49m), \u001b[38;5;241m1\u001b[39m)\n\u001b[1;32m     15\u001b[0m logit_score \u001b[38;5;241m=\u001b[39m \u001b[38;5;28mself\u001b[39m\u001b[38;5;241m.\u001b[39mmodel\u001b[38;5;241m.\u001b[39mforward(input_embs\u001b[38;5;241m.\u001b[39mreshape(\u001b[38;5;28mlen\u001b[39m(input_embs), \u001b[38;5;241m-\u001b[39m\u001b[38;5;241m1\u001b[39m))\n\u001b[1;32m     16\u001b[0m \u001b[38;5;28;01mreturn\u001b[39;00m {\u001b[38;5;124m\"\u001b[39m\u001b[38;5;124mlogits\u001b[39m\u001b[38;5;124m\"\u001b[39m: logit_score}\n",
      "\u001b[0;31mAttributeError\u001b[0m: 'LinWrapper' object has no attribute 'use_device'"
     ]
    }
   ],
   "source": [
    "myShaplin = ShapleyValues(lin_model_wrapper, tokenizer, method=\"kernel\", num_samples = 500, impute_token=\"the\")\n",
    "use_cls=False\n",
    "shap_list_lin = []\n",
    "cls_tok = torch.tensor([101])\n",
    "input_tok = torch.tensor([3819])\n",
    "if use_cls:\n",
    "    x = torch.cat((cls_tok, input_tok), dim=0)\n",
    "else:\n",
    "    x = input_tok\n",
    "for i in range(20):\n",
    "    print(i)\n",
    "    #logit_results = []\n",
    "    shapley = myShaplin.get_signed_importance_for_tokens([i.item() for i in x.flatten()])\n",
    "    #print(shapley)\n",
    "    shap_list_lin.append(torch.tensor(shapley))\n",
    "    x = torch.cat((x, input_tok), dim=0)"
   ]
  },
  {
   "cell_type": "code",
   "execution_count": 205,
   "id": "05a3f07d-c699-4cde-be44-6f847039bce6",
   "metadata": {},
   "outputs": [],
   "source": [
    "shap_list_bert, shap_list_gpt = shap_lists_runs[0], shap_lists_runs[1]"
   ]
  },
  {
   "cell_type": "code",
   "execution_count": 229,
   "id": "350b5662-d79d-47dc-9573-47d3afa89087",
   "metadata": {},
   "outputs": [
    {
     "data": {
      "text/plain": [
       "tensor([ 0.4813,  0.4511,  0.4536,  0.4323,  0.4473,  0.3881, -0.0037],\n",
       "       dtype=torch.float64)"
      ]
     },
     "execution_count": 229,
     "metadata": {},
     "output_type": "execute_result"
    }
   ],
   "source": [
    "shap_list_bert[4]"
   ]
  },
  {
   "cell_type": "code",
   "execution_count": 207,
   "id": "a5070280-bf85-46fc-9e13-9d33175d692b",
   "metadata": {},
   "outputs": [
    {
     "name": "stdout",
     "output_type": "stream",
     "text": [
      "0\n",
      "1\n",
      "2\n",
      "3\n",
      "4\n",
      "5\n",
      "6\n",
      "7\n",
      "8\n",
      "9\n"
     ]
    }
   ],
   "source": [
    "my_matrix = torch.ones(20, 20)*float(\"nan\")\n",
    "my_matrix_lin = torch.zeros(20,20)*float(\"nan\")\n",
    "my_matrix_exp = torch.zeros(20, 20)*float(\"nan\")\n",
    "my_matrix_gpt = torch.zeros(20, 20)*float(\"nan\")\n",
    "\n",
    "for i in range(10):\n",
    "    print(i)\n",
    "    my_matrix[i, :len(shap_list_bert[i])-2] = shap_list_bert[i][1:-1]\n",
    "    my_matrix_lin[i, :len(shap_list_lin[i])] = shap_list_lin[i]\n",
    "    my_matrix_gpt[i, :len(shap_list_lin[i])] = shap_list_gpt[i]\n",
    "    my_matrix_exp[i, :i+1] = 1.5"
   ]
  },
  {
   "cell_type": "code",
   "execution_count": 208,
   "id": "ba0331ee-ac3a-4bf7-94ba-190c349b68bf",
   "metadata": {},
   "outputs": [],
   "source": [
    "torch.save((my_matrix, my_matrix_lin, my_matrix_gpt, my_matrix_exp), \"figures/mat_motivation.pt\")"
   ]
  },
  {
   "cell_type": "code",
   "execution_count": 209,
   "id": "cddac2b8-0aae-4fc3-9dbe-61b14aed0f08",
   "metadata": {},
   "outputs": [],
   "source": [
    "import torch\n",
    "my_matrix, my_matrix_lin, my_matrix_gpt, my_matrix_exp = torch.load(\"figures/mat_motivation.pt\")"
   ]
  },
  {
   "cell_type": "code",
   "execution_count": 210,
   "id": "d7a1524a-bf94-4ec2-8f00-1594afc76047",
   "metadata": {},
   "outputs": [],
   "source": [
    "import matplotlib.pyplot as plt"
   ]
  },
  {
   "cell_type": "code",
   "execution_count": 227,
   "id": "39af3c9e-dd75-4a48-b221-dc897dcc156b",
   "metadata": {},
   "outputs": [
    {
     "data": {
      "image/png": "[encoded data removed]",
      "text/plain": [
       "<Figure size 328x300 with 5 Axes>"
      ]
     },
     "metadata": {},
     "output_type": "display_data"
    }
   ],
   "source": [
    "plt.style.use('./figures/matplot.mplstyle')\n",
    "plt.rc('axes', titlesize=10) \n",
    "f, ax = plt.subplots(2, 2)\n",
    "ax = [ax[0][0], ax[0][1], ax[1][0], ax[1][1]]\n",
    "sub_sz = 10\n",
    "vmax = 7 #None #5\n",
    "vmin = 0.3 #None # 0.5\n",
    "ax[0].matshow(my_matrix_exp[:sub_sz, :sub_sz], cmap = \"jet\", vmax=vmax, vmin=vmin)\n",
    "ax[0].set_title(\"expected\")\n",
    "ax[1].matshow(my_matrix_lin[:sub_sz, :sub_sz], cmap = \"jet\", vmax=vmax, vmin=vmin)\n",
    "ax[1].set_title(\"fully connected\")\n",
    "ax[2].matshow(my_matrix[:sub_sz, :sub_sz], cmap = \"jet\", vmax=vmax, vmin=vmin)\n",
    "ax[2].set_title(\"BERT\")\n",
    "pcs = ax[3].matshow(my_matrix_gpt[:sub_sz, :sub_sz], cmap = \"jet\", vmax=vmax, vmin=vmin)\n",
    "ax[3].set_title(\"GPT-2\")\n",
    "for a in ax:\n",
    "    a.set_xlabel(\"token \\#\")\n",
    "    a.grid([])\n",
    "ax[2].set_xticks([])\n",
    "ax[3].set_xticks([])\n",
    "ax[0].set_ylabel(\"seq. length\")\n",
    "ax[2].set_ylabel(\"seq. length\")\n",
    "f.set_size_inches(3.28,3)\n",
    "plt.tight_layout()\n",
    "cbar = f.colorbar(pcs, ax=[ax[1], ax[3]], shrink=0.8, pad=0.15)\n",
    "cbar.ax.get_yaxis().labelpad = 10\n",
    "cbar.ax.get_yaxis().set_ticks([1.0,3.0, 5])\n",
    "cbar.set_label('SHAP values', rotation=270)\n",
    "f.savefig(\"figures/figure_motivation.pdf\")"
   ]
  }
 ],
 "metadata": {
  "kernelspec": {
   "display_name": "transformer_ext",
   "language": "python",
   "name": "transformer_ext"
  },
  "language_info": {
   "codemirror_mode": {
    "name": "ipython",
    "version": 3
   },
   "file_extension": ".py",
   "mimetype": "text/x-python",
   "name": "python",
   "nbconvert_exporter": "python",
   "pygments_lexer": "ipython3",
   "version": "3.10.11"
  }
 },
 "nbformat": 4,
 "nbformat_minor": 5
}
